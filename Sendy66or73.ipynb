{
  "nbformat": 4,
  "nbformat_minor": 0,
  "metadata": {
    "colab": {
      "provenance": []
    },
    "kernelspec": {
      "name": "python3",
      "display_name": "Python 3"
    },
    "language_info": {
      "name": "python"
    },
    "accelerator": "GPU"
  },
  "cells": [
    {
      "cell_type": "markdown",
      "metadata": {
        "id": "trFRqFe0KC76"
      },
      "source": [
        "The objective of this notebook is to create a machine learning solution that will predict whether a rider will accept, decline or ignore an order sent to them.\n",
        "\n",
        "Data is gotten from Sendy Logistics"
      ]
    },
    {
      "cell_type": "code",
      "metadata": {
        "colab": {
          "base_uri": "https://localhost:8080/"
        },
        "id": "6v1SIFo8UpSb",
        "outputId": "13ba7c7a-5335-4fb9-90a9-1101a94e1ce2"
      },
      "source": [
        "from google.colab import drive\n",
        "drive.mount('/content/drive')"
      ],
      "execution_count": null,
      "outputs": [
        {
          "output_type": "stream",
          "name": "stdout",
          "text": [
            "Mounted at /content/drive\n"
          ]
        }
      ]
    },
    {
      "cell_type": "code",
      "metadata": {
        "id": "YBArGtJwFzwO"
      },
      "source": [
        "# Import libraries\n",
        "import pandas as pd\n",
        "import numpy as np\n",
        "from scipy import stats\n",
        "from sklearn.model_selection import KFold, StratifiedKFold, train_test_split, StratifiedShuffleSplit, RepeatedStratifiedKFold\n",
        "from lightgbm import LGBMClassifier\n",
        "from sklearn.metrics import accuracy_score\n",
        "\n",
        "from geopy.distance import geodesic\n",
        "from geopy.distance import lonlat, distance"
      ],
      "execution_count": null,
      "outputs": []
    },
    {
      "cell_type": "code",
      "metadata": {
        "id": "A1Nlsw9lGHTB"
      },
      "source": [
        "# Load files\n",
        "train = pd.read_csv('/content/drive/MyDrive/sendy/Train.csv')\n",
        "test = pd.read_csv('/content/drive/MyDrive/sendy/Test.csv')\n",
        "riders = pd.read_csv('/content/drive/MyDrive/sendy/Riders.csv')\n",
        "ss = pd.read_csv('/content/drive/MyDrive/sendy/SampleSubmission.csv')"
      ],
      "execution_count": null,
      "outputs": []
    },
    {
      "cell_type": "code",
      "metadata": {
        "colab": {
          "base_uri": "https://localhost:8080/"
        },
        "id": "a7Jni6DMGVKd",
        "outputId": "fc200689-a0dc-4c34-fdd0-c9ef0405f4aa"
      },
      "source": [
        "# check data shapes\n",
        "train.shape, test.shape, riders.shape, ss.shape"
      ],
      "execution_count": null,
      "outputs": [
        {
          "output_type": "execute_result",
          "data": {
            "text/plain": [
              "((179867, 21), (76791, 20), (2632, 4), (76791, 2))"
            ]
          },
          "metadata": {},
          "execution_count": 4
        }
      ]
    },
    {
      "cell_type": "code",
      "metadata": {
        "colab": {
          "base_uri": "https://localhost:8080/",
          "height": 222
        },
        "id": "LRHncK2pHSmR",
        "outputId": "773db8ea-b01d-46c1-d8db-b5b798e76cc3"
      },
      "source": [
        "# Preview train\n",
        "train.head()"
      ],
      "execution_count": null,
      "outputs": [
        {
          "output_type": "execute_result",
          "data": {
            "text/html": [
              "<div>\n",
              "<style scoped>\n",
              "    .dataframe tbody tr th:only-of-type {\n",
              "        vertical-align: middle;\n",
              "    }\n",
              "\n",
              "    .dataframe tbody tr th {\n",
              "        vertical-align: top;\n",
              "    }\n",
              "\n",
              "    .dataframe thead th {\n",
              "        text-align: right;\n",
              "    }\n",
              "</style>\n",
              "<table border=\"1\" class=\"dataframe\">\n",
              "  <thead>\n",
              "    <tr style=\"text-align: right;\">\n",
              "      <th></th>\n",
              "      <th>ID</th>\n",
              "      <th>order_id</th>\n",
              "      <th>dispatch_day</th>\n",
              "      <th>dispatch_day_of_week</th>\n",
              "      <th>dispatch_time</th>\n",
              "      <th>client_id</th>\n",
              "      <th>client_type</th>\n",
              "      <th>order_license_status</th>\n",
              "      <th>order_carrier_type</th>\n",
              "      <th>vendor_type</th>\n",
              "      <th>rider_id</th>\n",
              "      <th>rider_license_status</th>\n",
              "      <th>rider_carrier_type</th>\n",
              "      <th>rider_amount</th>\n",
              "      <th>rider_lat</th>\n",
              "      <th>rider_long</th>\n",
              "      <th>pickup_lat</th>\n",
              "      <th>pickup_long</th>\n",
              "      <th>drop_off_lat</th>\n",
              "      <th>drop_off_long</th>\n",
              "      <th>target</th>\n",
              "    </tr>\n",
              "  </thead>\n",
              "  <tbody>\n",
              "    <tr>\n",
              "      <th>0</th>\n",
              "      <td>ID_SCUW21PVAU</td>\n",
              "      <td>4435</td>\n",
              "      <td>27</td>\n",
              "      <td>6</td>\n",
              "      <td>09:02:54</td>\n",
              "      <td>593630</td>\n",
              "      <td>Business</td>\n",
              "      <td>0</td>\n",
              "      <td>2</td>\n",
              "      <td>Bike</td>\n",
              "      <td>30153</td>\n",
              "      <td>0</td>\n",
              "      <td>1</td>\n",
              "      <td>1080</td>\n",
              "      <td>-42.698343</td>\n",
              "      <td>-17.228539</td>\n",
              "      <td>-42.692371</td>\n",
              "      <td>-17.248305</td>\n",
              "      <td>-42.687442</td>\n",
              "      <td>-17.424682</td>\n",
              "      <td>1</td>\n",
              "    </tr>\n",
              "    <tr>\n",
              "      <th>1</th>\n",
              "      <td>ID_2HA7X30JMN</td>\n",
              "      <td>32711</td>\n",
              "      <td>30</td>\n",
              "      <td>7</td>\n",
              "      <td>13:01:37</td>\n",
              "      <td>837729</td>\n",
              "      <td>Personal</td>\n",
              "      <td>0</td>\n",
              "      <td>1</td>\n",
              "      <td>Bike</td>\n",
              "      <td>20884</td>\n",
              "      <td>0</td>\n",
              "      <td>1</td>\n",
              "      <td>730</td>\n",
              "      <td>-42.787317</td>\n",
              "      <td>-17.288252</td>\n",
              "      <td>-42.784046</td>\n",
              "      <td>-17.290121</td>\n",
              "      <td>-42.673267</td>\n",
              "      <td>-17.234595</td>\n",
              "      <td>2</td>\n",
              "    </tr>\n",
              "    <tr>\n",
              "      <th>2</th>\n",
              "      <td>ID_IAJWDTBY6M</td>\n",
              "      <td>8712</td>\n",
              "      <td>14</td>\n",
              "      <td>2</td>\n",
              "      <td>10:01:00</td>\n",
              "      <td>695129</td>\n",
              "      <td>Personal</td>\n",
              "      <td>0</td>\n",
              "      <td>2</td>\n",
              "      <td>Bike</td>\n",
              "      <td>33143</td>\n",
              "      <td>1</td>\n",
              "      <td>1</td>\n",
              "      <td>490</td>\n",
              "      <td>-42.749180</td>\n",
              "      <td>-17.287848</td>\n",
              "      <td>-42.765204</td>\n",
              "      <td>-17.293784</td>\n",
              "      <td>-42.813953</td>\n",
              "      <td>-17.294805</td>\n",
              "      <td>1</td>\n",
              "    </tr>\n",
              "    <tr>\n",
              "      <th>3</th>\n",
              "      <td>ID_LKSVPNYMTR</td>\n",
              "      <td>44869</td>\n",
              "      <td>22</td>\n",
              "      <td>3</td>\n",
              "      <td>14:11:16</td>\n",
              "      <td>1504660</td>\n",
              "      <td>Personal</td>\n",
              "      <td>0</td>\n",
              "      <td>2</td>\n",
              "      <td>Bike</td>\n",
              "      <td>96531</td>\n",
              "      <td>1</td>\n",
              "      <td>1</td>\n",
              "      <td>510</td>\n",
              "      <td>-42.836266</td>\n",
              "      <td>-17.311920</td>\n",
              "      <td>-42.831913</td>\n",
              "      <td>-17.315311</td>\n",
              "      <td>-42.812409</td>\n",
              "      <td>-17.265441</td>\n",
              "      <td>2</td>\n",
              "    </tr>\n",
              "    <tr>\n",
              "      <th>4</th>\n",
              "      <td>ID_O7N8Y918YH</td>\n",
              "      <td>57590</td>\n",
              "      <td>27</td>\n",
              "      <td>5</td>\n",
              "      <td>16:11:38</td>\n",
              "      <td>36869</td>\n",
              "      <td>Business</td>\n",
              "      <td>0</td>\n",
              "      <td>2</td>\n",
              "      <td>Bike</td>\n",
              "      <td>103546</td>\n",
              "      <td>0</td>\n",
              "      <td>0</td>\n",
              "      <td>400</td>\n",
              "      <td>-42.828195</td>\n",
              "      <td>-17.322818</td>\n",
              "      <td>-42.836056</td>\n",
              "      <td>-17.318111</td>\n",
              "      <td>-42.828517</td>\n",
              "      <td>-17.302052</td>\n",
              "      <td>0</td>\n",
              "    </tr>\n",
              "  </tbody>\n",
              "</table>\n",
              "</div>"
            ],
            "text/plain": [
              "              ID  order_id  dispatch_day  ...  drop_off_lat drop_off_long  target\n",
              "0  ID_SCUW21PVAU      4435            27  ...    -42.687442    -17.424682       1\n",
              "1  ID_2HA7X30JMN     32711            30  ...    -42.673267    -17.234595       2\n",
              "2  ID_IAJWDTBY6M      8712            14  ...    -42.813953    -17.294805       1\n",
              "3  ID_LKSVPNYMTR     44869            22  ...    -42.812409    -17.265441       2\n",
              "4  ID_O7N8Y918YH     57590            27  ...    -42.828517    -17.302052       0\n",
              "\n",
              "[5 rows x 21 columns]"
            ]
          },
          "metadata": {},
          "execution_count": 5
        }
      ]
    },
    {
      "cell_type": "code",
      "metadata": {
        "colab": {
          "base_uri": "https://localhost:8080/",
          "height": 202
        },
        "id": "E2paz6AQHUtB",
        "outputId": "4a746476-9ff7-47d6-80a5-854a4a5d4a02"
      },
      "source": [
        "# Preview riders\n",
        "riders.head()"
      ],
      "execution_count": null,
      "outputs": [
        {
          "output_type": "execute_result",
          "data": {
            "text/html": [
              "<div>\n",
              "<style scoped>\n",
              "    .dataframe tbody tr th:only-of-type {\n",
              "        vertical-align: middle;\n",
              "    }\n",
              "\n",
              "    .dataframe tbody tr th {\n",
              "        vertical-align: top;\n",
              "    }\n",
              "\n",
              "    .dataframe thead th {\n",
              "        text-align: right;\n",
              "    }\n",
              "</style>\n",
              "<table border=\"1\" class=\"dataframe\">\n",
              "  <thead>\n",
              "    <tr style=\"text-align: right;\">\n",
              "      <th></th>\n",
              "      <th>Rider ID</th>\n",
              "      <th>Active Rider Age</th>\n",
              "      <th>Average Partner Rating</th>\n",
              "      <th>Number of Ratings</th>\n",
              "    </tr>\n",
              "  </thead>\n",
              "  <tbody>\n",
              "    <tr>\n",
              "      <th>0</th>\n",
              "      <td>16261</td>\n",
              "      <td>308</td>\n",
              "      <td>21.05</td>\n",
              "      <td>321</td>\n",
              "    </tr>\n",
              "    <tr>\n",
              "      <th>1</th>\n",
              "      <td>8832</td>\n",
              "      <td>224</td>\n",
              "      <td>10.00</td>\n",
              "      <td>27</td>\n",
              "    </tr>\n",
              "    <tr>\n",
              "      <th>2</th>\n",
              "      <td>53866</td>\n",
              "      <td>238</td>\n",
              "      <td>17.76</td>\n",
              "      <td>25</td>\n",
              "    </tr>\n",
              "    <tr>\n",
              "      <th>3</th>\n",
              "      <td>46368</td>\n",
              "      <td>343</td>\n",
              "      <td>24.56</td>\n",
              "      <td>320</td>\n",
              "    </tr>\n",
              "    <tr>\n",
              "      <th>4</th>\n",
              "      <td>45609</td>\n",
              "      <td>399</td>\n",
              "      <td>14.97</td>\n",
              "      <td>214</td>\n",
              "    </tr>\n",
              "  </tbody>\n",
              "</table>\n",
              "</div>"
            ],
            "text/plain": [
              "   Rider ID  Active Rider Age  Average Partner Rating  Number of Ratings\n",
              "0     16261               308                   21.05                321\n",
              "1      8832               224                   10.00                 27\n",
              "2     53866               238                   17.76                 25\n",
              "3     46368               343                   24.56                320\n",
              "4     45609               399                   14.97                214"
            ]
          },
          "metadata": {},
          "execution_count": 6
        }
      ]
    },
    {
      "cell_type": "code",
      "metadata": {
        "colab": {
          "base_uri": "https://localhost:8080/"
        },
        "id": "2prq04dm2iPa",
        "outputId": "38fc216d-4b12-4aa2-8419-7d1ec2bcbfec"
      },
      "source": [
        "train.isna().sum()"
      ],
      "execution_count": null,
      "outputs": [
        {
          "output_type": "execute_result",
          "data": {
            "text/plain": [
              "ID                      0\n",
              "order_id                0\n",
              "dispatch_day            0\n",
              "dispatch_day_of_week    0\n",
              "dispatch_time           0\n",
              "client_id               0\n",
              "client_type             0\n",
              "order_license_status    0\n",
              "order_carrier_type      0\n",
              "vendor_type             0\n",
              "rider_id                0\n",
              "rider_license_status    0\n",
              "rider_carrier_type      0\n",
              "rider_amount            0\n",
              "rider_lat               0\n",
              "rider_long              0\n",
              "pickup_lat              0\n",
              "pickup_long             0\n",
              "drop_off_lat            0\n",
              "drop_off_long           0\n",
              "target                  0\n",
              "dtype: int64"
            ]
          },
          "metadata": {},
          "execution_count": 7
        }
      ]
    },
    {
      "cell_type": "code",
      "metadata": {
        "colab": {
          "base_uri": "https://localhost:8080/"
        },
        "id": "VaeVh4Hz0v8-",
        "outputId": "f88a592d-125f-450e-be52-7bbe1aee3e59"
      },
      "source": [
        "train.dtypes"
      ],
      "execution_count": null,
      "outputs": [
        {
          "output_type": "execute_result",
          "data": {
            "text/plain": [
              "ID                       object\n",
              "order_id                  int64\n",
              "dispatch_day              int64\n",
              "dispatch_day_of_week      int64\n",
              "dispatch_time            object\n",
              "client_id                 int64\n",
              "client_type              object\n",
              "order_license_status      int64\n",
              "order_carrier_type        int64\n",
              "vendor_type              object\n",
              "rider_id                  int64\n",
              "rider_license_status      int64\n",
              "rider_carrier_type        int64\n",
              "rider_amount              int64\n",
              "rider_lat               float64\n",
              "rider_long              float64\n",
              "pickup_lat              float64\n",
              "pickup_long             float64\n",
              "drop_off_lat            float64\n",
              "drop_off_long           float64\n",
              "target                    int64\n",
              "dtype: object"
            ]
          },
          "metadata": {},
          "execution_count": 8
        }
      ]
    },
    {
      "cell_type": "code",
      "metadata": {
        "colab": {
          "base_uri": "https://localhost:8080/",
          "height": 294
        },
        "id": "UHUFst5G1COZ",
        "outputId": "7f3006fe-66c4-45de-e792-890483c5c67b"
      },
      "source": [
        "riders.describe()"
      ],
      "execution_count": null,
      "outputs": [
        {
          "output_type": "execute_result",
          "data": {
            "text/html": [
              "<div>\n",
              "<style scoped>\n",
              "    .dataframe tbody tr th:only-of-type {\n",
              "        vertical-align: middle;\n",
              "    }\n",
              "\n",
              "    .dataframe tbody tr th {\n",
              "        vertical-align: top;\n",
              "    }\n",
              "\n",
              "    .dataframe thead th {\n",
              "        text-align: right;\n",
              "    }\n",
              "</style>\n",
              "<table border=\"1\" class=\"dataframe\">\n",
              "  <thead>\n",
              "    <tr style=\"text-align: right;\">\n",
              "      <th></th>\n",
              "      <th>Rider ID</th>\n",
              "      <th>Active Rider Age</th>\n",
              "      <th>Average Partner Rating</th>\n",
              "      <th>Number of Ratings</th>\n",
              "    </tr>\n",
              "  </thead>\n",
              "  <tbody>\n",
              "    <tr>\n",
              "      <th>count</th>\n",
              "      <td>2632.000000</td>\n",
              "      <td>2632.000000</td>\n",
              "      <td>2632.000000</td>\n",
              "      <td>2632.000000</td>\n",
              "    </tr>\n",
              "    <tr>\n",
              "      <th>mean</th>\n",
              "      <td>73738.323328</td>\n",
              "      <td>44.490881</td>\n",
              "      <td>17.530015</td>\n",
              "      <td>133.109422</td>\n",
              "    </tr>\n",
              "    <tr>\n",
              "      <th>std</th>\n",
              "      <td>28424.105449</td>\n",
              "      <td>63.154074</td>\n",
              "      <td>5.185067</td>\n",
              "      <td>118.880935</td>\n",
              "    </tr>\n",
              "    <tr>\n",
              "      <th>min</th>\n",
              "      <td>805.000000</td>\n",
              "      <td>0.000000</td>\n",
              "      <td>1.000000</td>\n",
              "      <td>0.000000</td>\n",
              "    </tr>\n",
              "    <tr>\n",
              "      <th>25%</th>\n",
              "      <td>54803.250000</td>\n",
              "      <td>3.000000</td>\n",
              "      <td>14.440000</td>\n",
              "      <td>33.000000</td>\n",
              "    </tr>\n",
              "    <tr>\n",
              "      <th>50%</th>\n",
              "      <td>74025.500000</td>\n",
              "      <td>14.000000</td>\n",
              "      <td>18.535000</td>\n",
              "      <td>105.500000</td>\n",
              "    </tr>\n",
              "    <tr>\n",
              "      <th>75%</th>\n",
              "      <td>98376.750000</td>\n",
              "      <td>62.000000</td>\n",
              "      <td>21.662500</td>\n",
              "      <td>205.000000</td>\n",
              "    </tr>\n",
              "    <tr>\n",
              "      <th>max</th>\n",
              "      <td>123694.000000</td>\n",
              "      <td>399.000000</td>\n",
              "      <td>24.990000</td>\n",
              "      <td>637.000000</td>\n",
              "    </tr>\n",
              "  </tbody>\n",
              "</table>\n",
              "</div>"
            ],
            "text/plain": [
              "            Rider ID  ...  Number of Ratings\n",
              "count    2632.000000  ...        2632.000000\n",
              "mean    73738.323328  ...         133.109422\n",
              "std     28424.105449  ...         118.880935\n",
              "min       805.000000  ...           0.000000\n",
              "25%     54803.250000  ...          33.000000\n",
              "50%     74025.500000  ...         105.500000\n",
              "75%     98376.750000  ...         205.000000\n",
              "max    123694.000000  ...         637.000000\n",
              "\n",
              "[8 rows x 4 columns]"
            ]
          },
          "metadata": {},
          "execution_count": 9
        }
      ]
    },
    {
      "cell_type": "code",
      "metadata": {
        "colab": {
          "base_uri": "https://localhost:8080/",
          "height": 314
        },
        "id": "jKhWk7Vv1SkP",
        "outputId": "6a7cd824-b9c3-414a-a21e-42ae8238df8b"
      },
      "source": [
        "train.describe()"
      ],
      "execution_count": null,
      "outputs": [
        {
          "output_type": "execute_result",
          "data": {
            "text/html": [
              "<div>\n",
              "<style scoped>\n",
              "    .dataframe tbody tr th:only-of-type {\n",
              "        vertical-align: middle;\n",
              "    }\n",
              "\n",
              "    .dataframe tbody tr th {\n",
              "        vertical-align: top;\n",
              "    }\n",
              "\n",
              "    .dataframe thead th {\n",
              "        text-align: right;\n",
              "    }\n",
              "</style>\n",
              "<table border=\"1\" class=\"dataframe\">\n",
              "  <thead>\n",
              "    <tr style=\"text-align: right;\">\n",
              "      <th></th>\n",
              "      <th>order_id</th>\n",
              "      <th>dispatch_day</th>\n",
              "      <th>dispatch_day_of_week</th>\n",
              "      <th>client_id</th>\n",
              "      <th>order_license_status</th>\n",
              "      <th>order_carrier_type</th>\n",
              "      <th>rider_id</th>\n",
              "      <th>rider_license_status</th>\n",
              "      <th>rider_carrier_type</th>\n",
              "      <th>rider_amount</th>\n",
              "      <th>rider_lat</th>\n",
              "      <th>rider_long</th>\n",
              "      <th>pickup_lat</th>\n",
              "      <th>pickup_long</th>\n",
              "      <th>drop_off_lat</th>\n",
              "      <th>drop_off_long</th>\n",
              "      <th>target</th>\n",
              "    </tr>\n",
              "  </thead>\n",
              "  <tbody>\n",
              "    <tr>\n",
              "      <th>count</th>\n",
              "      <td>179867.000000</td>\n",
              "      <td>179867.000000</td>\n",
              "      <td>179867.000000</td>\n",
              "      <td>1.798670e+05</td>\n",
              "      <td>179867.000000</td>\n",
              "      <td>179867.000000</td>\n",
              "      <td>179867.000000</td>\n",
              "      <td>179867.000000</td>\n",
              "      <td>179867.000000</td>\n",
              "      <td>179867.000000</td>\n",
              "      <td>179867.000000</td>\n",
              "      <td>179867.000000</td>\n",
              "      <td>179867.000000</td>\n",
              "      <td>179867.000000</td>\n",
              "      <td>179867.000000</td>\n",
              "      <td>179867.000000</td>\n",
              "      <td>179867.000000</td>\n",
              "    </tr>\n",
              "    <tr>\n",
              "      <th>mean</th>\n",
              "      <td>32639.833149</td>\n",
              "      <td>16.604903</td>\n",
              "      <td>4.185198</td>\n",
              "      <td>4.654108e+05</td>\n",
              "      <td>0.239555</td>\n",
              "      <td>1.619007</td>\n",
              "      <td>70389.969944</td>\n",
              "      <td>0.589936</td>\n",
              "      <td>0.868731</td>\n",
              "      <td>517.544185</td>\n",
              "      <td>-42.817124</td>\n",
              "      <td>-17.286813</td>\n",
              "      <td>-42.817156</td>\n",
              "      <td>-17.286229</td>\n",
              "      <td>-42.814879</td>\n",
              "      <td>-17.282547</td>\n",
              "      <td>0.652843</td>\n",
              "    </tr>\n",
              "    <tr>\n",
              "      <th>std</th>\n",
              "      <td>18227.428596</td>\n",
              "      <td>8.528368</td>\n",
              "      <td>1.683574</td>\n",
              "      <td>6.634234e+05</td>\n",
              "      <td>0.426813</td>\n",
              "      <td>0.536552</td>\n",
              "      <td>33981.806096</td>\n",
              "      <td>0.491846</td>\n",
              "      <td>0.337695</td>\n",
              "      <td>157.385430</td>\n",
              "      <td>0.106837</td>\n",
              "      <td>0.100707</td>\n",
              "      <td>0.106425</td>\n",
              "      <td>0.100101</td>\n",
              "      <td>0.114158</td>\n",
              "      <td>0.103640</td>\n",
              "      <td>0.791099</td>\n",
              "    </tr>\n",
              "    <tr>\n",
              "      <th>min</th>\n",
              "      <td>100.000000</td>\n",
              "      <td>1.000000</td>\n",
              "      <td>1.000000</td>\n",
              "      <td>2.610000e+02</td>\n",
              "      <td>0.000000</td>\n",
              "      <td>0.000000</td>\n",
              "      <td>1817.000000</td>\n",
              "      <td>0.000000</td>\n",
              "      <td>0.000000</td>\n",
              "      <td>200.000000</td>\n",
              "      <td>-45.736540</td>\n",
              "      <td>-20.079067</td>\n",
              "      <td>-45.725110</td>\n",
              "      <td>-20.070241</td>\n",
              "      <td>-45.793523</td>\n",
              "      <td>-20.352897</td>\n",
              "      <td>0.000000</td>\n",
              "    </tr>\n",
              "    <tr>\n",
              "      <th>25%</th>\n",
              "      <td>16875.000000</td>\n",
              "      <td>9.000000</td>\n",
              "      <td>3.000000</td>\n",
              "      <td>7.564700e+04</td>\n",
              "      <td>0.000000</td>\n",
              "      <td>1.000000</td>\n",
              "      <td>40756.000000</td>\n",
              "      <td>0.000000</td>\n",
              "      <td>1.000000</td>\n",
              "      <td>410.000000</td>\n",
              "      <td>-42.832252</td>\n",
              "      <td>-17.301329</td>\n",
              "      <td>-42.829119</td>\n",
              "      <td>-17.299970</td>\n",
              "      <td>-42.830628</td>\n",
              "      <td>-17.301066</td>\n",
              "      <td>0.000000</td>\n",
              "    </tr>\n",
              "    <tr>\n",
              "      <th>50%</th>\n",
              "      <td>32964.000000</td>\n",
              "      <td>17.000000</td>\n",
              "      <td>4.000000</td>\n",
              "      <td>1.434280e+05</td>\n",
              "      <td>0.000000</td>\n",
              "      <td>2.000000</td>\n",
              "      <td>73485.000000</td>\n",
              "      <td>1.000000</td>\n",
              "      <td>1.000000</td>\n",
              "      <td>460.000000</td>\n",
              "      <td>-42.813961</td>\n",
              "      <td>-17.286776</td>\n",
              "      <td>-42.820037</td>\n",
              "      <td>-17.283554</td>\n",
              "      <td>-42.806976</td>\n",
              "      <td>-17.282880</td>\n",
              "      <td>0.000000</td>\n",
              "    </tr>\n",
              "    <tr>\n",
              "      <th>75%</th>\n",
              "      <td>48117.000000</td>\n",
              "      <td>24.000000</td>\n",
              "      <td>6.000000</td>\n",
              "      <td>5.936300e+05</td>\n",
              "      <td>0.000000</td>\n",
              "      <td>2.000000</td>\n",
              "      <td>100441.000000</td>\n",
              "      <td>1.000000</td>\n",
              "      <td>1.000000</td>\n",
              "      <td>570.000000</td>\n",
              "      <td>-42.791405</td>\n",
              "      <td>-17.264774</td>\n",
              "      <td>-42.789742</td>\n",
              "      <td>-17.263246</td>\n",
              "      <td>-42.783811</td>\n",
              "      <td>-17.259310</td>\n",
              "      <td>1.000000</td>\n",
              "    </tr>\n",
              "    <tr>\n",
              "      <th>max</th>\n",
              "      <td>64427.000000</td>\n",
              "      <td>31.000000</td>\n",
              "      <td>7.000000</td>\n",
              "      <td>2.568456e+06</td>\n",
              "      <td>1.000000</td>\n",
              "      <td>2.000000</td>\n",
              "      <td>123694.000000</td>\n",
              "      <td>1.000000</td>\n",
              "      <td>1.000000</td>\n",
              "      <td>2190.000000</td>\n",
              "      <td>-40.676917</td>\n",
              "      <td>-15.480446</td>\n",
              "      <td>-40.699055</td>\n",
              "      <td>-15.482671</td>\n",
              "      <td>-40.683763</td>\n",
              "      <td>-15.324765</td>\n",
              "      <td>2.000000</td>\n",
              "    </tr>\n",
              "  </tbody>\n",
              "</table>\n",
              "</div>"
            ],
            "text/plain": [
              "            order_id   dispatch_day  ...  drop_off_long         target\n",
              "count  179867.000000  179867.000000  ...  179867.000000  179867.000000\n",
              "mean    32639.833149      16.604903  ...     -17.282547       0.652843\n",
              "std     18227.428596       8.528368  ...       0.103640       0.791099\n",
              "min       100.000000       1.000000  ...     -20.352897       0.000000\n",
              "25%     16875.000000       9.000000  ...     -17.301066       0.000000\n",
              "50%     32964.000000      17.000000  ...     -17.282880       0.000000\n",
              "75%     48117.000000      24.000000  ...     -17.259310       1.000000\n",
              "max     64427.000000      31.000000  ...     -15.324765       2.000000\n",
              "\n",
              "[8 rows x 17 columns]"
            ]
          },
          "metadata": {},
          "execution_count": 10
        }
      ]
    },
    {
      "cell_type": "markdown",
      "metadata": {
        "id": "SbzgBgnM1qSB"
      },
      "source": [
        "# Checking for cardinality"
      ]
    },
    {
      "cell_type": "code",
      "metadata": {
        "colab": {
          "base_uri": "https://localhost:8080/",
          "height": 692
        },
        "id": "OPMK-VDF1sMj",
        "outputId": "2e1ba56b-986c-44a6-e625-34382f110429"
      },
      "source": [
        "lis3=[]\n",
        "for i in train:\n",
        "    lis3.append(train[str(i)].nunique())\n",
        "\n",
        "cardinal=pd.DataFrame(lis3,train.columns).reset_index()\n",
        "cardinal=cardinal.rename(columns={'index':'Features',0:'cardinality'})\n",
        "cardinal"
      ],
      "execution_count": null,
      "outputs": [
        {
          "output_type": "execute_result",
          "data": {
            "text/html": [
              "<div>\n",
              "<style scoped>\n",
              "    .dataframe tbody tr th:only-of-type {\n",
              "        vertical-align: middle;\n",
              "    }\n",
              "\n",
              "    .dataframe tbody tr th {\n",
              "        vertical-align: top;\n",
              "    }\n",
              "\n",
              "    .dataframe thead th {\n",
              "        text-align: right;\n",
              "    }\n",
              "</style>\n",
              "<table border=\"1\" class=\"dataframe\">\n",
              "  <thead>\n",
              "    <tr style=\"text-align: right;\">\n",
              "      <th></th>\n",
              "      <th>Features</th>\n",
              "      <th>cardinality</th>\n",
              "    </tr>\n",
              "  </thead>\n",
              "  <tbody>\n",
              "    <tr>\n",
              "      <th>0</th>\n",
              "      <td>ID</td>\n",
              "      <td>179867</td>\n",
              "    </tr>\n",
              "    <tr>\n",
              "      <th>1</th>\n",
              "      <td>order_id</td>\n",
              "      <td>58848</td>\n",
              "    </tr>\n",
              "    <tr>\n",
              "      <th>2</th>\n",
              "      <td>dispatch_day</td>\n",
              "      <td>31</td>\n",
              "    </tr>\n",
              "    <tr>\n",
              "      <th>3</th>\n",
              "      <td>dispatch_day_of_week</td>\n",
              "      <td>7</td>\n",
              "    </tr>\n",
              "    <tr>\n",
              "      <th>4</th>\n",
              "      <td>dispatch_time</td>\n",
              "      <td>5636</td>\n",
              "    </tr>\n",
              "    <tr>\n",
              "      <th>5</th>\n",
              "      <td>client_id</td>\n",
              "      <td>5141</td>\n",
              "    </tr>\n",
              "    <tr>\n",
              "      <th>6</th>\n",
              "      <td>client_type</td>\n",
              "      <td>2</td>\n",
              "    </tr>\n",
              "    <tr>\n",
              "      <th>7</th>\n",
              "      <td>order_license_status</td>\n",
              "      <td>2</td>\n",
              "    </tr>\n",
              "    <tr>\n",
              "      <th>8</th>\n",
              "      <td>order_carrier_type</td>\n",
              "      <td>3</td>\n",
              "    </tr>\n",
              "    <tr>\n",
              "      <th>9</th>\n",
              "      <td>vendor_type</td>\n",
              "      <td>1</td>\n",
              "    </tr>\n",
              "    <tr>\n",
              "      <th>10</th>\n",
              "      <td>rider_id</td>\n",
              "      <td>764</td>\n",
              "    </tr>\n",
              "    <tr>\n",
              "      <th>11</th>\n",
              "      <td>rider_license_status</td>\n",
              "      <td>2</td>\n",
              "    </tr>\n",
              "    <tr>\n",
              "      <th>12</th>\n",
              "      <td>rider_carrier_type</td>\n",
              "      <td>2</td>\n",
              "    </tr>\n",
              "    <tr>\n",
              "      <th>13</th>\n",
              "      <td>rider_amount</td>\n",
              "      <td>177</td>\n",
              "    </tr>\n",
              "    <tr>\n",
              "      <th>14</th>\n",
              "      <td>rider_lat</td>\n",
              "      <td>156002</td>\n",
              "    </tr>\n",
              "    <tr>\n",
              "      <th>15</th>\n",
              "      <td>rider_long</td>\n",
              "      <td>154548</td>\n",
              "    </tr>\n",
              "    <tr>\n",
              "      <th>16</th>\n",
              "      <td>pickup_lat</td>\n",
              "      <td>7633</td>\n",
              "    </tr>\n",
              "    <tr>\n",
              "      <th>17</th>\n",
              "      <td>pickup_long</td>\n",
              "      <td>7655</td>\n",
              "    </tr>\n",
              "    <tr>\n",
              "      <th>18</th>\n",
              "      <td>drop_off_lat</td>\n",
              "      <td>12172</td>\n",
              "    </tr>\n",
              "    <tr>\n",
              "      <th>19</th>\n",
              "      <td>drop_off_long</td>\n",
              "      <td>12213</td>\n",
              "    </tr>\n",
              "    <tr>\n",
              "      <th>20</th>\n",
              "      <td>target</td>\n",
              "      <td>3</td>\n",
              "    </tr>\n",
              "  </tbody>\n",
              "</table>\n",
              "</div>"
            ],
            "text/plain": [
              "                Features  cardinality\n",
              "0                     ID       179867\n",
              "1               order_id        58848\n",
              "2           dispatch_day           31\n",
              "3   dispatch_day_of_week            7\n",
              "4          dispatch_time         5636\n",
              "5              client_id         5141\n",
              "6            client_type            2\n",
              "7   order_license_status            2\n",
              "8     order_carrier_type            3\n",
              "9            vendor_type            1\n",
              "10              rider_id          764\n",
              "11  rider_license_status            2\n",
              "12    rider_carrier_type            2\n",
              "13          rider_amount          177\n",
              "14             rider_lat       156002\n",
              "15            rider_long       154548\n",
              "16            pickup_lat         7633\n",
              "17           pickup_long         7655\n",
              "18          drop_off_lat        12172\n",
              "19         drop_off_long        12213\n",
              "20                target            3"
            ]
          },
          "metadata": {},
          "execution_count": 11
        }
      ]
    },
    {
      "cell_type": "code",
      "metadata": {
        "colab": {
          "base_uri": "https://localhost:8080/",
          "height": 171
        },
        "id": "lJa2_2W72A9M",
        "outputId": "02c74b40-e424-42d4-ed8a-78ebb02bc325"
      },
      "source": [
        "lis3=[]\n",
        "for i in riders:\n",
        "    lis3.append(riders[str(i)].nunique())\n",
        "\n",
        "cardinal2=pd.DataFrame(lis3,riders.columns).reset_index()\n",
        "cardinal2=cardinal2.rename(columns={'index':'Features',0:'cardinality'})\n",
        "cardinal2"
      ],
      "execution_count": null,
      "outputs": [
        {
          "output_type": "execute_result",
          "data": {
            "text/html": [
              "<div>\n",
              "<style scoped>\n",
              "    .dataframe tbody tr th:only-of-type {\n",
              "        vertical-align: middle;\n",
              "    }\n",
              "\n",
              "    .dataframe tbody tr th {\n",
              "        vertical-align: top;\n",
              "    }\n",
              "\n",
              "    .dataframe thead th {\n",
              "        text-align: right;\n",
              "    }\n",
              "</style>\n",
              "<table border=\"1\" class=\"dataframe\">\n",
              "  <thead>\n",
              "    <tr style=\"text-align: right;\">\n",
              "      <th></th>\n",
              "      <th>Features</th>\n",
              "      <th>cardinality</th>\n",
              "    </tr>\n",
              "  </thead>\n",
              "  <tbody>\n",
              "    <tr>\n",
              "      <th>0</th>\n",
              "      <td>Rider ID</td>\n",
              "      <td>2632</td>\n",
              "    </tr>\n",
              "    <tr>\n",
              "      <th>1</th>\n",
              "      <td>Active Rider Age</td>\n",
              "      <td>216</td>\n",
              "    </tr>\n",
              "    <tr>\n",
              "      <th>2</th>\n",
              "      <td>Average Partner Rating</td>\n",
              "      <td>1194</td>\n",
              "    </tr>\n",
              "    <tr>\n",
              "      <th>3</th>\n",
              "      <td>Number of Ratings</td>\n",
              "      <td>441</td>\n",
              "    </tr>\n",
              "  </tbody>\n",
              "</table>\n",
              "</div>"
            ],
            "text/plain": [
              "                 Features  cardinality\n",
              "0                Rider ID         2632\n",
              "1        Active Rider Age          216\n",
              "2  Average Partner Rating         1194\n",
              "3       Number of Ratings          441"
            ]
          },
          "metadata": {},
          "execution_count": 12
        }
      ]
    },
    {
      "cell_type": "code",
      "metadata": {
        "colab": {
          "base_uri": "https://localhost:8080/",
          "height": 255
        },
        "id": "_4cigp83GcVA",
        "outputId": "0cc15624-0b6e-41ff-d76a-16bfb93a774d"
      },
      "source": [
        "# Merge rider dataset to train and test sets\n",
        "train = train.merge(riders, how = 'left', left_on='rider_id', right_on='Rider ID')\n",
        "test = test.merge(riders, how = 'left', left_on='rider_id', right_on='Rider ID')\n",
        "\n",
        "# Preview merged dataframe\n",
        "train.head()"
      ],
      "execution_count": null,
      "outputs": [
        {
          "output_type": "execute_result",
          "data": {
            "text/html": [
              "<div>\n",
              "<style scoped>\n",
              "    .dataframe tbody tr th:only-of-type {\n",
              "        vertical-align: middle;\n",
              "    }\n",
              "\n",
              "    .dataframe tbody tr th {\n",
              "        vertical-align: top;\n",
              "    }\n",
              "\n",
              "    .dataframe thead th {\n",
              "        text-align: right;\n",
              "    }\n",
              "</style>\n",
              "<table border=\"1\" class=\"dataframe\">\n",
              "  <thead>\n",
              "    <tr style=\"text-align: right;\">\n",
              "      <th></th>\n",
              "      <th>ID</th>\n",
              "      <th>order_id</th>\n",
              "      <th>dispatch_day</th>\n",
              "      <th>dispatch_day_of_week</th>\n",
              "      <th>dispatch_time</th>\n",
              "      <th>client_id</th>\n",
              "      <th>client_type</th>\n",
              "      <th>order_license_status</th>\n",
              "      <th>order_carrier_type</th>\n",
              "      <th>vendor_type</th>\n",
              "      <th>rider_id</th>\n",
              "      <th>rider_license_status</th>\n",
              "      <th>rider_carrier_type</th>\n",
              "      <th>rider_amount</th>\n",
              "      <th>rider_lat</th>\n",
              "      <th>rider_long</th>\n",
              "      <th>pickup_lat</th>\n",
              "      <th>pickup_long</th>\n",
              "      <th>drop_off_lat</th>\n",
              "      <th>drop_off_long</th>\n",
              "      <th>target</th>\n",
              "      <th>Rider ID</th>\n",
              "      <th>Active Rider Age</th>\n",
              "      <th>Average Partner Rating</th>\n",
              "      <th>Number of Ratings</th>\n",
              "    </tr>\n",
              "  </thead>\n",
              "  <tbody>\n",
              "    <tr>\n",
              "      <th>0</th>\n",
              "      <td>ID_SCUW21PVAU</td>\n",
              "      <td>4435</td>\n",
              "      <td>27</td>\n",
              "      <td>6</td>\n",
              "      <td>09:02:54</td>\n",
              "      <td>593630</td>\n",
              "      <td>Business</td>\n",
              "      <td>0</td>\n",
              "      <td>2</td>\n",
              "      <td>Bike</td>\n",
              "      <td>30153</td>\n",
              "      <td>0</td>\n",
              "      <td>1</td>\n",
              "      <td>1080</td>\n",
              "      <td>-42.698343</td>\n",
              "      <td>-17.228539</td>\n",
              "      <td>-42.692371</td>\n",
              "      <td>-17.248305</td>\n",
              "      <td>-42.687442</td>\n",
              "      <td>-17.424682</td>\n",
              "      <td>1</td>\n",
              "      <td>30153</td>\n",
              "      <td>11</td>\n",
              "      <td>10.00</td>\n",
              "      <td>1</td>\n",
              "    </tr>\n",
              "    <tr>\n",
              "      <th>1</th>\n",
              "      <td>ID_2HA7X30JMN</td>\n",
              "      <td>32711</td>\n",
              "      <td>30</td>\n",
              "      <td>7</td>\n",
              "      <td>13:01:37</td>\n",
              "      <td>837729</td>\n",
              "      <td>Personal</td>\n",
              "      <td>0</td>\n",
              "      <td>1</td>\n",
              "      <td>Bike</td>\n",
              "      <td>20884</td>\n",
              "      <td>0</td>\n",
              "      <td>1</td>\n",
              "      <td>730</td>\n",
              "      <td>-42.787317</td>\n",
              "      <td>-17.288252</td>\n",
              "      <td>-42.784046</td>\n",
              "      <td>-17.290121</td>\n",
              "      <td>-42.673267</td>\n",
              "      <td>-17.234595</td>\n",
              "      <td>2</td>\n",
              "      <td>20884</td>\n",
              "      <td>68</td>\n",
              "      <td>24.13</td>\n",
              "      <td>229</td>\n",
              "    </tr>\n",
              "    <tr>\n",
              "      <th>2</th>\n",
              "      <td>ID_IAJWDTBY6M</td>\n",
              "      <td>8712</td>\n",
              "      <td>14</td>\n",
              "      <td>2</td>\n",
              "      <td>10:01:00</td>\n",
              "      <td>695129</td>\n",
              "      <td>Personal</td>\n",
              "      <td>0</td>\n",
              "      <td>2</td>\n",
              "      <td>Bike</td>\n",
              "      <td>33143</td>\n",
              "      <td>1</td>\n",
              "      <td>1</td>\n",
              "      <td>490</td>\n",
              "      <td>-42.749180</td>\n",
              "      <td>-17.287848</td>\n",
              "      <td>-42.765204</td>\n",
              "      <td>-17.293784</td>\n",
              "      <td>-42.813953</td>\n",
              "      <td>-17.294805</td>\n",
              "      <td>1</td>\n",
              "      <td>33143</td>\n",
              "      <td>273</td>\n",
              "      <td>24.92</td>\n",
              "      <td>123</td>\n",
              "    </tr>\n",
              "    <tr>\n",
              "      <th>3</th>\n",
              "      <td>ID_LKSVPNYMTR</td>\n",
              "      <td>44869</td>\n",
              "      <td>22</td>\n",
              "      <td>3</td>\n",
              "      <td>14:11:16</td>\n",
              "      <td>1504660</td>\n",
              "      <td>Personal</td>\n",
              "      <td>0</td>\n",
              "      <td>2</td>\n",
              "      <td>Bike</td>\n",
              "      <td>96531</td>\n",
              "      <td>1</td>\n",
              "      <td>1</td>\n",
              "      <td>510</td>\n",
              "      <td>-42.836266</td>\n",
              "      <td>-17.311920</td>\n",
              "      <td>-42.831913</td>\n",
              "      <td>-17.315311</td>\n",
              "      <td>-42.812409</td>\n",
              "      <td>-17.265441</td>\n",
              "      <td>2</td>\n",
              "      <td>96531</td>\n",
              "      <td>168</td>\n",
              "      <td>23.76</td>\n",
              "      <td>175</td>\n",
              "    </tr>\n",
              "    <tr>\n",
              "      <th>4</th>\n",
              "      <td>ID_O7N8Y918YH</td>\n",
              "      <td>57590</td>\n",
              "      <td>27</td>\n",
              "      <td>5</td>\n",
              "      <td>16:11:38</td>\n",
              "      <td>36869</td>\n",
              "      <td>Business</td>\n",
              "      <td>0</td>\n",
              "      <td>2</td>\n",
              "      <td>Bike</td>\n",
              "      <td>103546</td>\n",
              "      <td>0</td>\n",
              "      <td>0</td>\n",
              "      <td>400</td>\n",
              "      <td>-42.828195</td>\n",
              "      <td>-17.322818</td>\n",
              "      <td>-42.836056</td>\n",
              "      <td>-17.318111</td>\n",
              "      <td>-42.828517</td>\n",
              "      <td>-17.302052</td>\n",
              "      <td>0</td>\n",
              "      <td>103546</td>\n",
              "      <td>95</td>\n",
              "      <td>24.53</td>\n",
              "      <td>42</td>\n",
              "    </tr>\n",
              "  </tbody>\n",
              "</table>\n",
              "</div>"
            ],
            "text/plain": [
              "              ID  order_id  ...  Average Partner Rating  Number of Ratings\n",
              "0  ID_SCUW21PVAU      4435  ...                   10.00                  1\n",
              "1  ID_2HA7X30JMN     32711  ...                   24.13                229\n",
              "2  ID_IAJWDTBY6M      8712  ...                   24.92                123\n",
              "3  ID_LKSVPNYMTR     44869  ...                   23.76                175\n",
              "4  ID_O7N8Y918YH     57590  ...                   24.53                 42\n",
              "\n",
              "[5 rows x 25 columns]"
            ]
          },
          "metadata": {},
          "execution_count": 13
        }
      ]
    },
    {
      "cell_type": "code",
      "metadata": {
        "colab": {
          "base_uri": "https://localhost:8080/"
        },
        "id": "bw3hloZd0ydv",
        "outputId": "0aaf188e-de2c-4b6d-9468-82ca9c7445b6"
      },
      "source": [
        "# join train and test together\n",
        "ntrain = train.shape[0]\n",
        "ntest = test.shape[0]\n",
        "\n",
        "all_data = pd.concat((train, test)).reset_index(drop=True)\n",
        "print(\"all_data size is : {}\".format(all_data.shape))"
      ],
      "execution_count": null,
      "outputs": [
        {
          "output_type": "stream",
          "name": "stdout",
          "text": [
            "all_data size is : (256658, 25)\n"
          ]
        }
      ]
    },
    {
      "cell_type": "markdown",
      "metadata": {
        "id": "xLlVPsiELDWb"
      },
      "source": [
        "Compute the distance between the riders and pickup long and lat"
      ]
    },
    {
      "cell_type": "code",
      "metadata": {
        "id": "Y2rNJctJ61Io"
      },
      "source": [
        "ride_pick=[]\n",
        "for i in range(len(all_data)):\n",
        "    x=(all_data[\"rider_long\"][i],all_data[\"rider_lat\"][i])\n",
        "    y=(all_data[\"pickup_long\"][i],all_data[\"pickup_lat\"][i])\n",
        "    ride_pick.append(distance(lonlat(*x),lonlat(*y)).km)"
      ],
      "execution_count": null,
      "outputs": []
    },
    {
      "cell_type": "code",
      "metadata": {
        "id": "hkzKYUQw7zez"
      },
      "source": [
        "all_data[\"ride_pick\"]=pd.DataFrame(ride_pick,columns=[\"ride_pick\"])"
      ],
      "execution_count": null,
      "outputs": []
    },
    {
      "cell_type": "code",
      "metadata": {
        "id": "LeBKARiO8VWI"
      },
      "source": [
        "pick_drop=[]\n",
        "for i in range(len(all_data)):\n",
        "    x=(all_data[\"pickup_long\"][i],all_data[\"pickup_lat\"][i])\n",
        "    y=(all_data[\"drop_off_long\"][i],all_data[\"drop_off_lat\"][i])\n",
        "    pick_drop.append(distance(lonlat(*x),lonlat(*y)).km)"
      ],
      "execution_count": null,
      "outputs": []
    },
    {
      "cell_type": "code",
      "metadata": {
        "id": "hbmkWnZa8pgg"
      },
      "source": [
        "all_data[\"pick_drop\"]=pd.DataFrame(pick_drop,columns=[\"pick_drop\"])"
      ],
      "execution_count": null,
      "outputs": []
    },
    {
      "cell_type": "code",
      "metadata": {
        "id": "IrT0cWqzMsXL"
      },
      "source": [
        "ride_drop=[]\n",
        "for i in range(len(all_data)):\n",
        "    x=(all_data[\"rider_long\"][i],all_data[\"rider_lat\"][i])\n",
        "    y=(all_data[\"drop_off_long\"][i],all_data[\"drop_off_lat\"][i])\n",
        "    ride_drop.append(distance(lonlat(*x),lonlat(*y)).km)"
      ],
      "execution_count": null,
      "outputs": []
    },
    {
      "cell_type": "code",
      "metadata": {
        "id": "jVUPfeOcNQg8"
      },
      "source": [
        "all_data[\"ride_drop\"]=pd.DataFrame(ride_drop,columns=[\"ride_drop\"])"
      ],
      "execution_count": null,
      "outputs": []
    },
    {
      "cell_type": "markdown",
      "metadata": {
        "id": "y9aNFFP0LS_N"
      },
      "source": [
        "copy data for tracking"
      ]
    },
    {
      "cell_type": "code",
      "metadata": {
        "id": "-APuSmvVoS_x"
      },
      "source": [
        "data1 = all_data.copy()"
      ],
      "execution_count": null,
      "outputs": []
    },
    {
      "cell_type": "code",
      "metadata": {
        "id": "D3Kl9IR_zNpA"
      },
      "source": [
        "all_data = data1.copy()"
      ],
      "execution_count": null,
      "outputs": []
    },
    {
      "cell_type": "markdown",
      "metadata": {
        "id": "pt4eIcYtLcC3"
      },
      "source": [
        "# Feature Engineering"
      ]
    },
    {
      "cell_type": "code",
      "metadata": {
        "id": "6IMSZ6XjztLa"
      },
      "source": [
        "def f(x):\n",
        "    if (x > 1) and (x <= 8):\n",
        "        return 0\n",
        "    elif (x > 8) and (x <= 12 ):\n",
        "        return 1\n",
        "    elif (x > 12) and (x <= 16):\n",
        "        return 2\n",
        "    elif (x > 16) and (x <= 20) :\n",
        "        return 3\n",
        "    elif (x > 20) and (x <= 24):\n",
        "        return 4\n",
        "    elif (x <= 4):\n",
        "        return 5"
      ],
      "execution_count": null,
      "outputs": []
    },
    {
      "cell_type": "code",
      "metadata": {
        "colab": {
          "base_uri": "https://localhost:8080/"
        },
        "id": "JXjtUL5BqW3r",
        "outputId": "c43dc27f-7892-4c6e-90c5-0a11b0bfcd60"
      },
      "source": [
        "all_data.columns"
      ],
      "execution_count": null,
      "outputs": [
        {
          "output_type": "execute_result",
          "data": {
            "text/plain": [
              "Index(['ID', 'order_id', 'dispatch_day', 'dispatch_day_of_week',\n",
              "       'dispatch_time', 'client_id', 'client_type', 'order_license_status',\n",
              "       'order_carrier_type', 'vendor_type', 'rider_id', 'rider_license_status',\n",
              "       'rider_carrier_type', 'rider_amount', 'rider_lat', 'rider_long',\n",
              "       'pickup_lat', 'pickup_long', 'drop_off_lat', 'drop_off_long', 'target',\n",
              "       'Rider ID', 'Active Rider Age', 'Average Partner Rating',\n",
              "       'Number of Ratings', 'ride_pick', 'pick_drop', 'ride_drop'],\n",
              "      dtype='object')"
            ]
          },
          "metadata": {},
          "execution_count": 24
        }
      ]
    },
    {
      "cell_type": "markdown",
      "metadata": {
        "id": "D7yVTanLLs5T"
      },
      "source": [
        "frequency encode the order id and rider id"
      ]
    },
    {
      "cell_type": "code",
      "metadata": {
        "id": "YPYp9L7YqVpg"
      },
      "source": [
        "all_data['order_id_map'] = all_data['order_id'].map(all_data['order_id'].value_counts().to_dict())\n",
        "all_data['rider_id_map'] = all_data['rider_id'].map(all_data['rider_id'].value_counts().to_dict())"
      ],
      "execution_count": null,
      "outputs": []
    },
    {
      "cell_type": "code",
      "metadata": {
        "id": "OqS8xK_cNdhA"
      },
      "source": [
        "all_data['dispatch_time']=pd.to_datetime(all_data['dispatch_time'],infer_datetime_format=True, errors='coerce')\n",
        "all_data['dispatch_time Hour']=all_data['dispatch_time'].dt.hour\n",
        "all_data['dispatch_time Minute']=all_data['dispatch_time'].dt.minute\n",
        "all_data[\"timing\"] = all_data['dispatch_time Hour'].map(f)\n",
        "\n",
        "\n",
        "all_data['rider_amount_age'] = pd.qcut(all_data['rider_amount'], 3, labels=False)\n",
        "\n",
        "\n",
        "all_data[\"ratingAvg\"] = all_data[\"Average Partner Rating\"]/all_data[\"Number of Ratings\"]\n",
        "all_data['ratingAvg'] = (np.where(all_data['ratingAvg'] == np.inf, 0, all_data['ratingAvg']))\n",
        "all_data['rider_amount_age'] = all_data['rider_amount']/all_data[\"Active Rider Age\"]\n",
        "all_data['rider_amount_age'] = (np.where(all_data['rider_amount_age'] == np.inf, 0, all_data['rider_amount_age']))\n",
        "\n",
        "\n",
        "all_data['license status'] = all_data['order_license_status'] + all_data['rider_license_status']\n",
        "all_data['license status minus'] = all_data['rider_license_status'] - all_data['order_license_status']\n",
        "\n",
        "all_data['license status'] = all_data['order_license_status'] * all_data['rider_license_status']\n",
        "\n",
        "all_data['carrier type'] = all_data['order_carrier_type'] * all_data['rider_carrier_type']\n",
        "\n",
        "\n",
        "all_data['latlong2'] = all_data['drop_off_long'] + all_data['pickup_long']\n",
        "all_data['latlong'] = all_data['drop_off_lat'] + all_data['pickup_lat']\n",
        "all_data['latlong3'] = all_data['rider_long'] + all_data['pickup_long']\n",
        "all_data['latlong4'] = all_data['rider_lat'] + all_data['pickup_lat']"
      ],
      "execution_count": null,
      "outputs": []
    },
    {
      "cell_type": "code",
      "metadata": {
        "colab": {
          "base_uri": "https://localhost:8080/",
          "height": 196
        },
        "id": "eTwco7SjAcXx",
        "outputId": "1eb87ab9-feb4-48c1-f794-fcdf62edf1c3"
      },
      "source": [
        "all_data.head(2)"
      ],
      "execution_count": null,
      "outputs": [
        {
          "output_type": "execute_result",
          "data": {
            "text/html": [
              "<div>\n",
              "<style scoped>\n",
              "    .dataframe tbody tr th:only-of-type {\n",
              "        vertical-align: middle;\n",
              "    }\n",
              "\n",
              "    .dataframe tbody tr th {\n",
              "        vertical-align: top;\n",
              "    }\n",
              "\n",
              "    .dataframe thead th {\n",
              "        text-align: right;\n",
              "    }\n",
              "</style>\n",
              "<table border=\"1\" class=\"dataframe\">\n",
              "  <thead>\n",
              "    <tr style=\"text-align: right;\">\n",
              "      <th></th>\n",
              "      <th>ID</th>\n",
              "      <th>order_id</th>\n",
              "      <th>dispatch_day</th>\n",
              "      <th>dispatch_day_of_week</th>\n",
              "      <th>dispatch_time</th>\n",
              "      <th>client_id</th>\n",
              "      <th>client_type</th>\n",
              "      <th>order_license_status</th>\n",
              "      <th>order_carrier_type</th>\n",
              "      <th>vendor_type</th>\n",
              "      <th>rider_id</th>\n",
              "      <th>rider_license_status</th>\n",
              "      <th>rider_carrier_type</th>\n",
              "      <th>rider_amount</th>\n",
              "      <th>rider_lat</th>\n",
              "      <th>rider_long</th>\n",
              "      <th>pickup_lat</th>\n",
              "      <th>pickup_long</th>\n",
              "      <th>drop_off_lat</th>\n",
              "      <th>drop_off_long</th>\n",
              "      <th>target</th>\n",
              "      <th>Rider ID</th>\n",
              "      <th>Active Rider Age</th>\n",
              "      <th>Average Partner Rating</th>\n",
              "      <th>Number of Ratings</th>\n",
              "      <th>ride_pick</th>\n",
              "      <th>pick_drop</th>\n",
              "      <th>ride_drop</th>\n",
              "      <th>order_id_map</th>\n",
              "      <th>rider_id_map</th>\n",
              "      <th>dispatch_time Hour</th>\n",
              "      <th>dispatch_time Minute</th>\n",
              "      <th>timing</th>\n",
              "      <th>rider_amount_age</th>\n",
              "      <th>ratingAvg</th>\n",
              "      <th>license status</th>\n",
              "      <th>license status minus</th>\n",
              "      <th>carrier type</th>\n",
              "      <th>latlong2</th>\n",
              "      <th>latlong</th>\n",
              "      <th>latlong3</th>\n",
              "      <th>latlong4</th>\n",
              "    </tr>\n",
              "  </thead>\n",
              "  <tbody>\n",
              "    <tr>\n",
              "      <th>0</th>\n",
              "      <td>ID_SCUW21PVAU</td>\n",
              "      <td>4435</td>\n",
              "      <td>27</td>\n",
              "      <td>6</td>\n",
              "      <td>2021-09-13 09:02:54</td>\n",
              "      <td>593630</td>\n",
              "      <td>Business</td>\n",
              "      <td>0</td>\n",
              "      <td>2</td>\n",
              "      <td>Bike</td>\n",
              "      <td>30153</td>\n",
              "      <td>0</td>\n",
              "      <td>1</td>\n",
              "      <td>1080</td>\n",
              "      <td>-42.698343</td>\n",
              "      <td>-17.228539</td>\n",
              "      <td>-42.692371</td>\n",
              "      <td>-17.248305</td>\n",
              "      <td>-42.687442</td>\n",
              "      <td>-17.424682</td>\n",
              "      <td>1.0</td>\n",
              "      <td>30153</td>\n",
              "      <td>11</td>\n",
              "      <td>10.00</td>\n",
              "      <td>1</td>\n",
              "      <td>1.750228</td>\n",
              "      <td>14.464436</td>\n",
              "      <td>16.118620</td>\n",
              "      <td>3</td>\n",
              "      <td>655</td>\n",
              "      <td>9</td>\n",
              "      <td>2</td>\n",
              "      <td>1</td>\n",
              "      <td>98.181818</td>\n",
              "      <td>10.000000</td>\n",
              "      <td>0</td>\n",
              "      <td>0</td>\n",
              "      <td>2</td>\n",
              "      <td>-34.672987</td>\n",
              "      <td>-85.379813</td>\n",
              "      <td>-34.476844</td>\n",
              "      <td>-85.390714</td>\n",
              "    </tr>\n",
              "    <tr>\n",
              "      <th>1</th>\n",
              "      <td>ID_2HA7X30JMN</td>\n",
              "      <td>32711</td>\n",
              "      <td>30</td>\n",
              "      <td>7</td>\n",
              "      <td>2021-09-13 13:01:37</td>\n",
              "      <td>837729</td>\n",
              "      <td>Personal</td>\n",
              "      <td>0</td>\n",
              "      <td>1</td>\n",
              "      <td>Bike</td>\n",
              "      <td>20884</td>\n",
              "      <td>0</td>\n",
              "      <td>1</td>\n",
              "      <td>730</td>\n",
              "      <td>-42.787317</td>\n",
              "      <td>-17.288252</td>\n",
              "      <td>-42.784046</td>\n",
              "      <td>-17.290121</td>\n",
              "      <td>-42.673267</td>\n",
              "      <td>-17.234595</td>\n",
              "      <td>2.0</td>\n",
              "      <td>20884</td>\n",
              "      <td>68</td>\n",
              "      <td>24.13</td>\n",
              "      <td>229</td>\n",
              "      <td>0.394210</td>\n",
              "      <td>13.119469</td>\n",
              "      <td>13.409895</td>\n",
              "      <td>1</td>\n",
              "      <td>254</td>\n",
              "      <td>13</td>\n",
              "      <td>1</td>\n",
              "      <td>2</td>\n",
              "      <td>10.735294</td>\n",
              "      <td>0.105371</td>\n",
              "      <td>0</td>\n",
              "      <td>0</td>\n",
              "      <td>1</td>\n",
              "      <td>-34.524716</td>\n",
              "      <td>-85.457313</td>\n",
              "      <td>-34.578373</td>\n",
              "      <td>-85.571363</td>\n",
              "    </tr>\n",
              "  </tbody>\n",
              "</table>\n",
              "</div>"
            ],
            "text/plain": [
              "              ID  order_id  dispatch_day  ...    latlong   latlong3   latlong4\n",
              "0  ID_SCUW21PVAU      4435            27  ... -85.379813 -34.476844 -85.390714\n",
              "1  ID_2HA7X30JMN     32711            30  ... -85.457313 -34.578373 -85.571363\n",
              "\n",
              "[2 rows x 42 columns]"
            ]
          },
          "metadata": {},
          "execution_count": 27
        }
      ]
    },
    {
      "cell_type": "markdown",
      "metadata": {
        "id": "_CecJq_lMheF"
      },
      "source": [
        "groupby rider id and order id"
      ]
    },
    {
      "cell_type": "code",
      "metadata": {
        "id": "sOhDNq210c8_"
      },
      "source": [
        "disatnce_per_rider=all_data.groupby(\"rider_id\").pick_drop.agg([\"mean\",\"max\",\"min\"])\n",
        "disatnce_per_order=all_data.groupby(\"order_id\").pick_drop.agg([\"mean\",\"max\",\"min\"])"
      ],
      "execution_count": null,
      "outputs": []
    },
    {
      "cell_type": "code",
      "metadata": {
        "id": "JQ9VMuQsB1iD"
      },
      "source": [
        "disatnce_per_rider2=all_data.groupby(\"rider_id\").ride_drop.agg([\"mean\",\"max\",\"min\"])\n",
        "disatnce_per_order2=all_data.groupby(\"order_id\").ride_drop.agg([\"mean\",\"max\",\"min\"])"
      ],
      "execution_count": null,
      "outputs": []
    },
    {
      "cell_type": "code",
      "metadata": {
        "id": "mUA1YJV2CF40"
      },
      "source": [
        "disatnce_per_rider3=all_data.groupby(\"rider_id\").ride_pick.agg([\"mean\",\"max\",\"min\"])\n",
        "disatnce_per_order3=all_data.groupby(\"order_id\").ride_pick.agg([\"mean\",\"max\",\"min\"])"
      ],
      "execution_count": null,
      "outputs": []
    },
    {
      "cell_type": "code",
      "metadata": {
        "id": "FjxZzXkC1Kwv"
      },
      "source": [
        "disatnce_per_rider.columns=[ col+\"_pickup_drop_per_rider\" for col in  disatnce_per_rider.columns]\n",
        "disatnce_per_rider.reset_index(inplace=True)\n",
        "\n",
        "disatnce_per_order.columns=[ col+\"_pickup_drop_per_order\" for col in  disatnce_per_order.columns]\n",
        "disatnce_per_order.reset_index(inplace=True)"
      ],
      "execution_count": null,
      "outputs": []
    },
    {
      "cell_type": "code",
      "metadata": {
        "id": "QkC3H45-CRPE"
      },
      "source": [
        "disatnce_per_rider2.columns=[ col+\"_ride_drop_per_rider\" for col in  disatnce_per_rider2.columns]\n",
        "disatnce_per_rider2.reset_index(inplace=True)\n",
        "\n",
        "disatnce_per_order2.columns=[ col+\"_ride_drop_per_order\" for col in  disatnce_per_order2.columns]\n",
        "disatnce_per_order2.reset_index(inplace=True)"
      ],
      "execution_count": null,
      "outputs": []
    },
    {
      "cell_type": "code",
      "metadata": {
        "id": "WAat8z8WCRpf"
      },
      "source": [
        "disatnce_per_rider3.columns=[ col+\"_ride_pickup_per_rider\" for col in  disatnce_per_rider3.columns]\n",
        "disatnce_per_rider3.reset_index(inplace=True)\n",
        "\n",
        "disatnce_per_order3.columns=[ col+\"_ride_pickup_per_order\" for col in  disatnce_per_order3.columns]\n",
        "disatnce_per_order3.reset_index(inplace=True)"
      ],
      "execution_count": null,
      "outputs": []
    },
    {
      "cell_type": "markdown",
      "metadata": {
        "id": "HaLbYLU8MmZn"
      },
      "source": [
        "cyclic features"
      ]
    },
    {
      "cell_type": "code",
      "metadata": {
        "id": "I0-oIlchEGUO"
      },
      "source": [
        "all_data['dispatch_day_cos'] = np.cos(all_data['dispatch_day'])\n",
        "all_data['dispatch_day_sin'] = np.sin(all_data['dispatch_day'])\n",
        "\n",
        "all_data['dispatch_daywk_cos'] = np.cos(all_data['dispatch_day_of_week'])\n",
        "all_data['dispatch_daywk_sin'] = np.sin(all_data['dispatch_day_of_week'])"
      ],
      "execution_count": null,
      "outputs": []
    },
    {
      "cell_type": "code",
      "metadata": {
        "id": "n5ZXkw_-8A06",
        "colab": {
          "base_uri": "https://localhost:8080/",
          "height": 196
        },
        "outputId": "b50c7176-0345-4d1d-df2a-73aee890b0fe"
      },
      "source": [
        "all_data.head(2)"
      ],
      "execution_count": null,
      "outputs": [
        {
          "output_type": "execute_result",
          "data": {
            "text/html": [
              "<div>\n",
              "<style scoped>\n",
              "    .dataframe tbody tr th:only-of-type {\n",
              "        vertical-align: middle;\n",
              "    }\n",
              "\n",
              "    .dataframe tbody tr th {\n",
              "        vertical-align: top;\n",
              "    }\n",
              "\n",
              "    .dataframe thead th {\n",
              "        text-align: right;\n",
              "    }\n",
              "</style>\n",
              "<table border=\"1\" class=\"dataframe\">\n",
              "  <thead>\n",
              "    <tr style=\"text-align: right;\">\n",
              "      <th></th>\n",
              "      <th>ID</th>\n",
              "      <th>order_id</th>\n",
              "      <th>dispatch_day</th>\n",
              "      <th>dispatch_day_of_week</th>\n",
              "      <th>dispatch_time</th>\n",
              "      <th>client_id</th>\n",
              "      <th>client_type</th>\n",
              "      <th>order_license_status</th>\n",
              "      <th>order_carrier_type</th>\n",
              "      <th>vendor_type</th>\n",
              "      <th>rider_id</th>\n",
              "      <th>rider_license_status</th>\n",
              "      <th>rider_carrier_type</th>\n",
              "      <th>rider_amount</th>\n",
              "      <th>rider_lat</th>\n",
              "      <th>rider_long</th>\n",
              "      <th>pickup_lat</th>\n",
              "      <th>pickup_long</th>\n",
              "      <th>drop_off_lat</th>\n",
              "      <th>drop_off_long</th>\n",
              "      <th>target</th>\n",
              "      <th>Rider ID</th>\n",
              "      <th>Active Rider Age</th>\n",
              "      <th>Average Partner Rating</th>\n",
              "      <th>Number of Ratings</th>\n",
              "      <th>ride_pick</th>\n",
              "      <th>pick_drop</th>\n",
              "      <th>ride_drop</th>\n",
              "      <th>order_id_map</th>\n",
              "      <th>rider_id_map</th>\n",
              "      <th>dispatch_time Hour</th>\n",
              "      <th>dispatch_time Minute</th>\n",
              "      <th>timing</th>\n",
              "      <th>rider_amount_age</th>\n",
              "      <th>ratingAvg</th>\n",
              "      <th>license status</th>\n",
              "      <th>license status minus</th>\n",
              "      <th>carrier type</th>\n",
              "      <th>latlong2</th>\n",
              "      <th>latlong</th>\n",
              "      <th>latlong3</th>\n",
              "      <th>latlong4</th>\n",
              "      <th>dispatch_day_cos</th>\n",
              "      <th>dispatch_day_sin</th>\n",
              "      <th>dispatch_daywk_cos</th>\n",
              "      <th>dispatch_daywk_sin</th>\n",
              "    </tr>\n",
              "  </thead>\n",
              "  <tbody>\n",
              "    <tr>\n",
              "      <th>0</th>\n",
              "      <td>ID_SCUW21PVAU</td>\n",
              "      <td>4435</td>\n",
              "      <td>27</td>\n",
              "      <td>6</td>\n",
              "      <td>2021-09-13 09:02:54</td>\n",
              "      <td>593630</td>\n",
              "      <td>Business</td>\n",
              "      <td>0</td>\n",
              "      <td>2</td>\n",
              "      <td>Bike</td>\n",
              "      <td>30153</td>\n",
              "      <td>0</td>\n",
              "      <td>1</td>\n",
              "      <td>1080</td>\n",
              "      <td>-42.698343</td>\n",
              "      <td>-17.228539</td>\n",
              "      <td>-42.692371</td>\n",
              "      <td>-17.248305</td>\n",
              "      <td>-42.687442</td>\n",
              "      <td>-17.424682</td>\n",
              "      <td>1.0</td>\n",
              "      <td>30153</td>\n",
              "      <td>11</td>\n",
              "      <td>10.00</td>\n",
              "      <td>1</td>\n",
              "      <td>1.750228</td>\n",
              "      <td>14.464436</td>\n",
              "      <td>16.118620</td>\n",
              "      <td>3</td>\n",
              "      <td>655</td>\n",
              "      <td>9</td>\n",
              "      <td>2</td>\n",
              "      <td>1</td>\n",
              "      <td>98.181818</td>\n",
              "      <td>10.000000</td>\n",
              "      <td>0</td>\n",
              "      <td>0</td>\n",
              "      <td>2</td>\n",
              "      <td>-34.672987</td>\n",
              "      <td>-85.379813</td>\n",
              "      <td>-34.476844</td>\n",
              "      <td>-85.390714</td>\n",
              "      <td>-0.292139</td>\n",
              "      <td>0.956376</td>\n",
              "      <td>0.960170</td>\n",
              "      <td>-0.279415</td>\n",
              "    </tr>\n",
              "    <tr>\n",
              "      <th>1</th>\n",
              "      <td>ID_2HA7X30JMN</td>\n",
              "      <td>32711</td>\n",
              "      <td>30</td>\n",
              "      <td>7</td>\n",
              "      <td>2021-09-13 13:01:37</td>\n",
              "      <td>837729</td>\n",
              "      <td>Personal</td>\n",
              "      <td>0</td>\n",
              "      <td>1</td>\n",
              "      <td>Bike</td>\n",
              "      <td>20884</td>\n",
              "      <td>0</td>\n",
              "      <td>1</td>\n",
              "      <td>730</td>\n",
              "      <td>-42.787317</td>\n",
              "      <td>-17.288252</td>\n",
              "      <td>-42.784046</td>\n",
              "      <td>-17.290121</td>\n",
              "      <td>-42.673267</td>\n",
              "      <td>-17.234595</td>\n",
              "      <td>2.0</td>\n",
              "      <td>20884</td>\n",
              "      <td>68</td>\n",
              "      <td>24.13</td>\n",
              "      <td>229</td>\n",
              "      <td>0.394210</td>\n",
              "      <td>13.119469</td>\n",
              "      <td>13.409895</td>\n",
              "      <td>1</td>\n",
              "      <td>254</td>\n",
              "      <td>13</td>\n",
              "      <td>1</td>\n",
              "      <td>2</td>\n",
              "      <td>10.735294</td>\n",
              "      <td>0.105371</td>\n",
              "      <td>0</td>\n",
              "      <td>0</td>\n",
              "      <td>1</td>\n",
              "      <td>-34.524716</td>\n",
              "      <td>-85.457313</td>\n",
              "      <td>-34.578373</td>\n",
              "      <td>-85.571363</td>\n",
              "      <td>0.154251</td>\n",
              "      <td>-0.988032</td>\n",
              "      <td>0.753902</td>\n",
              "      <td>0.656987</td>\n",
              "    </tr>\n",
              "  </tbody>\n",
              "</table>\n",
              "</div>"
            ],
            "text/plain": [
              "              ID  order_id  ...  dispatch_daywk_cos  dispatch_daywk_sin\n",
              "0  ID_SCUW21PVAU      4435  ...            0.960170           -0.279415\n",
              "1  ID_2HA7X30JMN     32711  ...            0.753902            0.656987\n",
              "\n",
              "[2 rows x 46 columns]"
            ]
          },
          "metadata": {},
          "execution_count": 35
        }
      ]
    },
    {
      "cell_type": "code",
      "metadata": {
        "colab": {
          "base_uri": "https://localhost:8080/"
        },
        "id": "d1XXQgq8Kzd6",
        "outputId": "70fca30f-91e8-41ec-db29-70f7e7318066"
      },
      "source": [
        "all_data.dtypes"
      ],
      "execution_count": null,
      "outputs": [
        {
          "output_type": "execute_result",
          "data": {
            "text/plain": [
              "ID                                object\n",
              "order_id                           int64\n",
              "dispatch_day                       int64\n",
              "dispatch_day_of_week               int64\n",
              "dispatch_time             datetime64[ns]\n",
              "client_id                          int64\n",
              "client_type                       object\n",
              "order_license_status               int64\n",
              "order_carrier_type                 int64\n",
              "vendor_type                       object\n",
              "rider_id                           int64\n",
              "rider_license_status               int64\n",
              "rider_carrier_type                 int64\n",
              "rider_amount                       int64\n",
              "rider_lat                        float64\n",
              "rider_long                       float64\n",
              "pickup_lat                       float64\n",
              "pickup_long                      float64\n",
              "drop_off_lat                     float64\n",
              "drop_off_long                    float64\n",
              "target                           float64\n",
              "Rider ID                           int64\n",
              "Active Rider Age                   int64\n",
              "Average Partner Rating           float64\n",
              "Number of Ratings                  int64\n",
              "ride_pick                        float64\n",
              "pick_drop                        float64\n",
              "ride_drop                        float64\n",
              "order_id_map                       int64\n",
              "rider_id_map                       int64\n",
              "dispatch_time Hour                 int64\n",
              "dispatch_time Minute               int64\n",
              "timing                             int64\n",
              "rider_amount_age                 float64\n",
              "ratingAvg                        float64\n",
              "license status                     int64\n",
              "license status minus               int64\n",
              "carrier type                       int64\n",
              "latlong2                         float64\n",
              "latlong                          float64\n",
              "latlong3                         float64\n",
              "latlong4                         float64\n",
              "dispatch_day_cos                 float64\n",
              "dispatch_day_sin                 float64\n",
              "dispatch_daywk_cos               float64\n",
              "dispatch_daywk_sin               float64\n",
              "dtype: object"
            ]
          },
          "metadata": {},
          "execution_count": 36
        }
      ]
    },
    {
      "cell_type": "markdown",
      "metadata": {
        "id": "6Puiu8b4M-PX"
      },
      "source": [
        "One hot encoding"
      ]
    },
    {
      "cell_type": "code",
      "metadata": {
        "id": "ndd1PymsLRiN"
      },
      "source": [
        "# One hot encoding\n",
        "all_data = pd.get_dummies(all_data, columns=['client_type'])"
      ],
      "execution_count": null,
      "outputs": []
    },
    {
      "cell_type": "code",
      "metadata": {
        "id": "MajUqa8w-H24"
      },
      "source": [
        "# Get the new dataset\n",
        "train_n = all_data[:ntrain].copy()\n",
        "test_n = all_data[ntrain:].copy()"
      ],
      "execution_count": null,
      "outputs": []
    },
    {
      "cell_type": "code",
      "metadata": {
        "id": "qnjoPo2PDCm3"
      },
      "source": [
        "# merge datasets by rider_id\n",
        "train_n=train_n.merge(disatnce_per_rider,on=\"rider_id\",how=\"left\")\n",
        "test_n=test_n.merge(disatnce_per_rider,on=\"rider_id\",how=\"left\")\n",
        "\n",
        "train_n=train_n.merge(disatnce_per_rider2,on=\"rider_id\",how=\"left\")\n",
        "test_n=test_n.merge(disatnce_per_rider2,on=\"rider_id\",how=\"left\")\n",
        "\n",
        "train_n=train_n.merge(disatnce_per_rider3,on=\"rider_id\",how=\"left\")\n",
        "test_n=test_n.merge(disatnce_per_rider3,on=\"rider_id\",how=\"left\")"
      ],
      "execution_count": null,
      "outputs": []
    },
    {
      "cell_type": "code",
      "metadata": {
        "id": "anImnSFaJM04"
      },
      "source": [
        "# merge datasets by order_id\n",
        "train_n=train_n.merge(disatnce_per_order,on=\"order_id\",how=\"left\")\n",
        "test_n=test_n.merge(disatnce_per_order,on=\"order_id\",how=\"left\")\n",
        "\n",
        "train_n=train_n.merge(disatnce_per_order2,on=\"order_id\",how=\"left\")\n",
        "test_n=test_n.merge(disatnce_per_order2,on=\"order_id\",how=\"left\")\n",
        "\n",
        "train_n=train_n.merge(disatnce_per_order3,on=\"order_id\",how=\"left\")\n",
        "test_n=test_n.merge(disatnce_per_order3,on=\"order_id\",how=\"left\")"
      ],
      "execution_count": null,
      "outputs": []
    },
    {
      "cell_type": "code",
      "metadata": {
        "colab": {
          "base_uri": "https://localhost:8080/"
        },
        "id": "444sVKl8NddX",
        "outputId": "67a55a67-63e8-4e3d-c93c-7bb82f7bdd99"
      },
      "source": [
        "(train_n.astype(np.object) == '?').any()"
      ],
      "execution_count": null,
      "outputs": [
        {
          "output_type": "execute_result",
          "data": {
            "text/plain": [
              "ID                            False\n",
              "order_id                      False\n",
              "dispatch_day                  False\n",
              "dispatch_day_of_week          False\n",
              "dispatch_time                 False\n",
              "                              ...  \n",
              "max_ride_drop_per_order       False\n",
              "min_ride_drop_per_order       False\n",
              "mean_ride_pickup_per_order    False\n",
              "max_ride_pickup_per_order     False\n",
              "min_ride_pickup_per_order     False\n",
              "Length: 65, dtype: bool"
            ]
          },
          "metadata": {},
          "execution_count": 41
        }
      ]
    },
    {
      "cell_type": "code",
      "metadata": {
        "id": "rXpla5vI-VRb",
        "colab": {
          "base_uri": "https://localhost:8080/"
        },
        "outputId": "7d31f1b1-212c-4b20-821b-f5cb6c757f30"
      },
      "source": [
        "train_n.dtypes[train_n.dtypes != np.float]"
      ],
      "execution_count": null,
      "outputs": [
        {
          "output_type": "execute_result",
          "data": {
            "text/plain": [
              "ID                              object\n",
              "order_id                         int64\n",
              "dispatch_day                     int64\n",
              "dispatch_day_of_week             int64\n",
              "dispatch_time           datetime64[ns]\n",
              "client_id                        int64\n",
              "order_license_status             int64\n",
              "order_carrier_type               int64\n",
              "vendor_type                     object\n",
              "rider_id                         int64\n",
              "rider_license_status             int64\n",
              "rider_carrier_type               int64\n",
              "rider_amount                     int64\n",
              "Rider ID                         int64\n",
              "Active Rider Age                 int64\n",
              "Number of Ratings                int64\n",
              "order_id_map                     int64\n",
              "rider_id_map                     int64\n",
              "dispatch_time Hour               int64\n",
              "dispatch_time Minute             int64\n",
              "timing                           int64\n",
              "license status                   int64\n",
              "license status minus             int64\n",
              "carrier type                     int64\n",
              "client_type_Business             uint8\n",
              "client_type_Personal             uint8\n",
              "dtype: object"
            ]
          },
          "metadata": {},
          "execution_count": 42
        }
      ]
    },
    {
      "cell_type": "markdown",
      "metadata": {
        "id": "HBFFHrtJNzTK"
      },
      "source": [
        "# Modelling"
      ]
    },
    {
      "cell_type": "code",
      "metadata": {
        "id": "6odSlKUfGgCU"
      },
      "source": [
        "# Split data\n",
        "main_cols = train_n.columns.difference(['ID', 'Rider ID', 'target', 'dispatch_time', 'vendor_type']).tolist()\n",
        "X = train_n[main_cols]\n",
        "y = train_n.target\n",
        "X_train, X_test, y_train, y_test = train_test_split(X, y, test_size = 0.2, stratify=y, random_state = 3031)"
      ],
      "execution_count": null,
      "outputs": []
    },
    {
      "cell_type": "code",
      "metadata": {
        "id": "pnILINU2-66G",
        "colab": {
          "base_uri": "https://localhost:8080/"
        },
        "outputId": "ddc98702-5fb4-40b9-d9be-9afc08f3b6f3"
      },
      "source": [
        "pip install catboost --quiet"
      ],
      "execution_count": null,
      "outputs": [
        {
          "output_type": "stream",
          "name": "stdout",
          "text": [
            "\u001b[K     |████████████████████████████████| 67.4 MB 30 kB/s \n",
            "\u001b[?25h"
          ]
        }
      ]
    },
    {
      "cell_type": "code",
      "metadata": {
        "id": "YBxbejBEOyg4"
      },
      "source": [
        "from catboost import CatBoostClassifier"
      ],
      "execution_count": null,
      "outputs": []
    },
    {
      "cell_type": "markdown",
      "metadata": {
        "id": "kEWjblSTOKLl"
      },
      "source": [
        "Using LGBMClassifier"
      ]
    },
    {
      "cell_type": "code",
      "metadata": {
        "id": "r-HLa0YizL54"
      },
      "source": [
        "model=LGBMClassifier(learning_rate=0.065764278575641, n_estimators=5000,\n",
        "                    silent=True)"
      ],
      "execution_count": null,
      "outputs": []
    },
    {
      "cell_type": "code",
      "metadata": {
        "id": "bJGz27ygoFbq"
      },
      "source": [
        "categorical_features_indices = np.where(X.dtypes != np.float)[0]"
      ],
      "execution_count": null,
      "outputs": []
    },
    {
      "cell_type": "code",
      "metadata": {
        "id": "zYZWrfZIo8Cv"
      },
      "source": [
        "categorical_features_indices = ['client_id', 'order_id', 'dispatch_day', 'dispatch_day_of_week', 'rider_id', 'rider_carrier_type']"
      ],
      "execution_count": null,
      "outputs": []
    },
    {
      "cell_type": "code",
      "metadata": {
        "colab": {
          "base_uri": "https://localhost:8080/"
        },
        "id": "V39kCGzpz0iH",
        "outputId": "5d1cbef4-01c1-4472-e11d-ee768bd23be6"
      },
      "source": [
        "model.fit(X_train,y_train,eval_set=[(X_train,y_train),(X_test, y_test)],\n",
        "          early_stopping_rounds=300,verbose=200,\n",
        "          categorical_feature=categorical_features_indices)"
      ],
      "execution_count": null,
      "outputs": [
        {
          "output_type": "stream",
          "name": "stderr",
          "text": [
            "/usr/local/lib/python3.7/dist-packages/lightgbm/basic.py:1209: UserWarning: categorical_feature in Dataset is overridden.\n",
            "New categorical_feature is ['client_id', 'dispatch_day', 'dispatch_day_of_week', 'order_id', 'rider_carrier_type', 'rider_id']\n",
            "  'New categorical_feature is {}'.format(sorted(list(categorical_feature))))\n"
          ]
        },
        {
          "output_type": "stream",
          "name": "stdout",
          "text": [
            "Training until validation scores don't improve for 300 rounds.\n",
            "[200]\ttraining's multi_logloss: 0.643651\tvalid_1's multi_logloss: 0.734947\n",
            "[400]\ttraining's multi_logloss: 0.592276\tvalid_1's multi_logloss: 0.735966\n",
            "Early stopping, best iteration is:\n",
            "[203]\ttraining's multi_logloss: 0.642726\tvalid_1's multi_logloss: 0.734838\n"
          ]
        },
        {
          "output_type": "execute_result",
          "data": {
            "text/plain": [
              "LGBMClassifier(boosting_type='gbdt', class_weight=None, colsample_bytree=1.0,\n",
              "               importance_type='split', learning_rate=0.065764278575641,\n",
              "               max_depth=-1, min_child_samples=20, min_child_weight=0.001,\n",
              "               min_split_gain=0.0, n_estimators=5000, n_jobs=-1, num_leaves=31,\n",
              "               objective=None, random_state=None, reg_alpha=0.0, reg_lambda=0.0,\n",
              "               silent=True, subsample=1.0, subsample_for_bin=200000,\n",
              "               subsample_freq=0)"
            ]
          },
          "metadata": {},
          "execution_count": 52
        }
      ]
    },
    {
      "cell_type": "code",
      "metadata": {
        "colab": {
          "base_uri": "https://localhost:8080/"
        },
        "id": "HYOz_6Ke2a_C",
        "outputId": "4e358aa1-7e3e-4ab0-9029-71a00b4ae52e"
      },
      "source": [
        "# Make predictions\n",
        "y_pred = model.predict(X_test)\n",
        "\n",
        "# Check score\n",
        "accuracy_score(y_test, y_pred)"
      ],
      "execution_count": null,
      "outputs": [
        {
          "output_type": "execute_result",
          "data": {
            "text/plain": [
              "0.6584199699783176"
            ]
          },
          "metadata": {},
          "execution_count": 53
        }
      ]
    },
    {
      "cell_type": "markdown",
      "metadata": {
        "id": "RuNQ4FkaOWng"
      },
      "source": [
        "submission"
      ]
    },
    {
      "cell_type": "code",
      "metadata": {
        "id": "CcxCkbtA2bDf"
      },
      "source": [
        "y_pred = np.asarray(model.predict(test_n[main_cols]), dtype=int)\n",
        "\n",
        "# Make predictions in test set and prepare submission file\n",
        "predictions = y_pred\n",
        "sub_file = ss.copy()\n",
        "sub_file.target = (predictions)\n",
        "sub_file.to_csv('Baseline.csv', index = False) #0.665"
      ],
      "execution_count": null,
      "outputs": []
    },
    {
      "cell_type": "code",
      "metadata": {
        "colab": {
          "base_uri": "https://localhost:8080/",
          "height": 592
        },
        "id": "UpKe6foNPK5w",
        "outputId": "111dd2cb-126e-448c-d645-cbf0ff773475"
      },
      "source": [
        "fea_imp = pd.DataFrame({'imp':model.feature_importances_, 'col': X.columns})\n",
        "fea_imp = fea_imp.sort_values(['imp', 'col'], ascending=[True, False]).iloc[-30:]\n",
        "_ = fea_imp.plot(kind='barh', x='col', y='imp', figsize=(20, 10))"
      ],
      "execution_count": null,
      "outputs": [
        {
          "output_type": "display_data",
          "data": {
            "image/png": "[encoded data removed]",
            "text/plain": [
              "<Figure size 1440x720 with 1 Axes>"
            ]
          },
          "metadata": {
            "needs_background": "light"
          }
        }
      ]
    },
    {
      "cell_type": "markdown",
      "metadata": {
        "id": "QG4njFtLPtAN"
      },
      "source": [
        "Cross Validation"
      ]
    },
    {
      "cell_type": "code",
      "metadata": {
        "colab": {
          "base_uri": "https://localhost:8080/"
        },
        "id": "0Y8Jx1mk3aDT",
        "outputId": "3a2f136b-66cf-48be-a3b8-c09828d07847"
      },
      "source": [
        "cv_score=[]\n",
        "test_pred=[]\n",
        "split = 5\n",
        "fold=StratifiedKFold(n_splits=split, shuffle=True, random_state=3031)\n",
        "\n",
        "for train_index, test_index in fold.split(X_train, y_train):\n",
        "    X_train, X_test = X.iloc[train_index], X.iloc[test_index]\n",
        "    y_train, y_test = y.iloc[train_index], y.iloc[test_index]\n",
        "\n",
        "    model=LGBMClassifier(max_depth=5, learning_rate=0.08997, n_estimators=1500,\n",
        "                    silent=True, colsample_bylevel=0.8, reg_alpha=0.8)\n",
        "    model.fit(X_train,y_train,eval_set=[(X_train,y_train),(X_test, y_test)], early_stopping_rounds=50,verbose=100)\n",
        "\n",
        "    # Appending predictions into list\n",
        "    preds=model.predict(X_test)\n",
        "    print(\"Score: \",accuracy_score(y_test,preds))\n",
        "    cv_score.append(accuracy_score(y_test,preds))\n",
        "    test_p = np.asarray(model.predict(test_n[main_cols]), dtype=int)\n",
        "    test_pred.append(test_p)"
      ],
      "execution_count": null,
      "outputs": [
        {
          "output_type": "stream",
          "name": "stdout",
          "text": [
            "Training until validation scores don't improve for 50 rounds.\n",
            "[100]\ttraining's multi_logloss: 0.73907\tvalid_1's multi_logloss: 0.762125\n",
            "[200]\ttraining's multi_logloss: 0.705344\tvalid_1's multi_logloss: 0.745307\n",
            "[300]\ttraining's multi_logloss: 0.68205\tvalid_1's multi_logloss: 0.739162\n",
            "[400]\ttraining's multi_logloss: 0.661763\tvalid_1's multi_logloss: 0.736207\n",
            "[500]\ttraining's multi_logloss: 0.644396\tvalid_1's multi_logloss: 0.735205\n",
            "[600]\ttraining's multi_logloss: 0.627808\tvalid_1's multi_logloss: 0.734827\n",
            "[700]\ttraining's multi_logloss: 0.612501\tvalid_1's multi_logloss: 0.734639\n",
            "Early stopping, best iteration is:\n",
            "[699]\ttraining's multi_logloss: 0.612625\tvalid_1's multi_logloss: 0.734603\n",
            "Score:  0.6605858438444699\n",
            "Training until validation scores don't improve for 50 rounds.\n",
            "[100]\ttraining's multi_logloss: 0.739776\tvalid_1's multi_logloss: 0.762802\n",
            "[200]\ttraining's multi_logloss: 0.70563\tvalid_1's multi_logloss: 0.746046\n",
            "[300]\ttraining's multi_logloss: 0.681592\tvalid_1's multi_logloss: 0.739741\n",
            "[400]\ttraining's multi_logloss: 0.66154\tvalid_1's multi_logloss: 0.737399\n",
            "[500]\ttraining's multi_logloss: 0.643572\tvalid_1's multi_logloss: 0.73653\n",
            "[600]\ttraining's multi_logloss: 0.626549\tvalid_1's multi_logloss: 0.735922\n",
            "[700]\ttraining's multi_logloss: 0.610984\tvalid_1's multi_logloss: 0.735932\n",
            "Early stopping, best iteration is:\n",
            "[674]\ttraining's multi_logloss: 0.614883\tvalid_1's multi_logloss: 0.735732\n",
            "Score:  0.6599603877827582\n",
            "Training until validation scores don't improve for 50 rounds.\n",
            "[100]\ttraining's multi_logloss: 0.741316\tvalid_1's multi_logloss: 0.756822\n",
            "[200]\ttraining's multi_logloss: 0.706756\tvalid_1's multi_logloss: 0.74066\n",
            "[300]\ttraining's multi_logloss: 0.683865\tvalid_1's multi_logloss: 0.735012\n",
            "[400]\ttraining's multi_logloss: 0.664477\tvalid_1's multi_logloss: 0.732688\n",
            "[500]\ttraining's multi_logloss: 0.646703\tvalid_1's multi_logloss: 0.73181\n",
            "[600]\ttraining's multi_logloss: 0.629407\tvalid_1's multi_logloss: 0.731253\n",
            "Early stopping, best iteration is:\n",
            "[575]\ttraining's multi_logloss: 0.633567\tvalid_1's multi_logloss: 0.731173\n",
            "Score:  0.6603426109315821\n",
            "Training until validation scores don't improve for 50 rounds.\n",
            "[100]\ttraining's multi_logloss: 0.741824\tvalid_1's multi_logloss: 0.755456\n",
            "[200]\ttraining's multi_logloss: 0.706578\tvalid_1's multi_logloss: 0.73709\n",
            "[300]\ttraining's multi_logloss: 0.683765\tvalid_1's multi_logloss: 0.731091\n",
            "[400]\ttraining's multi_logloss: 0.664799\tvalid_1's multi_logloss: 0.728709\n",
            "[500]\ttraining's multi_logloss: 0.647261\tvalid_1's multi_logloss: 0.727519\n",
            "[600]\ttraining's multi_logloss: 0.63029\tvalid_1's multi_logloss: 0.726806\n",
            "Early stopping, best iteration is:\n",
            "[641]\ttraining's multi_logloss: 0.623717\tvalid_1's multi_logloss: 0.726512\n",
            "Score:  0.668496768364723\n",
            "Training until validation scores don't improve for 50 rounds.\n",
            "[100]\ttraining's multi_logloss: 0.740711\tvalid_1's multi_logloss: 0.755122\n",
            "[200]\ttraining's multi_logloss: 0.705501\tvalid_1's multi_logloss: 0.738525\n",
            "[300]\ttraining's multi_logloss: 0.683151\tvalid_1's multi_logloss: 0.733042\n",
            "[400]\ttraining's multi_logloss: 0.663386\tvalid_1's multi_logloss: 0.730483\n",
            "[500]\ttraining's multi_logloss: 0.645326\tvalid_1's multi_logloss: 0.729618\n",
            "[600]\ttraining's multi_logloss: 0.628601\tvalid_1's multi_logloss: 0.729246\n",
            "Early stopping, best iteration is:\n",
            "[578]\ttraining's multi_logloss: 0.632087\tvalid_1's multi_logloss: 0.729131\n",
            "Score:  0.6690874973938425\n"
          ]
        }
      ]
    },
    {
      "cell_type": "code",
      "metadata": {
        "id": "ft_732Xj3aMk"
      },
      "source": [
        "from scipy import stats\n",
        "mode_info = stats.mode(test_pred)\n",
        "predtest = np.asarray(mode_info[0][0], dtype=int)\n",
        "sub_file = ss.copy()\n",
        "sub_file.target = predtest\n",
        "sub_file.to_csv('fold1.csv', index = False) # 0.67"
      ],
      "execution_count": null,
      "outputs": []
    },
    {
      "cell_type": "markdown",
      "metadata": {
        "id": "-Xwa-3BAUReE"
      },
      "source": [
        "Catboost 1"
      ]
    },
    {
      "cell_type": "code",
      "metadata": {
        "id": "Pn8z0ES5Wfke"
      },
      "source": [
        "model=CatBoostClassifier(n_estimators=5000,eval_metric='Accuracy', devices='0:1',\n",
        "                         learning_rate=0.0651765456536,\n",
        "                         bootstrap_type='Bernoulli',\n",
        "                     allow_writing_files=False,\n",
        "                     use_best_model=True, metric_period=20,\n",
        "                     task_type='GPU')\n",
        ""
      ],
      "execution_count": null,
      "outputs": []
    },
    {
      "cell_type": "code",
      "metadata": {
        "id": "zeR_KqDET87R"
      },
      "source": [
        "categorical_features_indices = ['client_id', 'dispatch_day', 'dispatch_day_of_week', 'order_id', 'rider_id']"
      ],
      "execution_count": null,
      "outputs": []
    },
    {
      "cell_type": "code",
      "metadata": {
        "colab": {
          "base_uri": "https://localhost:8080/"
        },
        "id": "KUElj-R-UFc7",
        "outputId": "26ae4470-729a-4a2a-edee-46fad45395f2"
      },
      "source": [
        "model.fit(X_train, y_train, eval_set=(X_test, y_test),\n",
        "          early_stopping_rounds=50, verbose=200,\n",
        "          cat_features=categorical_features_indices)"
      ],
      "execution_count": null,
      "outputs": [
        {
          "output_type": "stream",
          "name": "stdout",
          "text": [
            "0:\tlearn: 0.5697636\ttest: 0.5839217\tbest: 0.5839217 (0)\ttotal: 36.7ms\tremaining: 3m 3s\n",
            "200:\tlearn: 0.6676975\ttest: 0.6723745\tbest: 0.6725135 (197)\ttotal: 5.25s\tremaining: 2m 5s\n",
            "400:\tlearn: 0.6778718\ttest: 0.6772391\tbest: 0.6772391 (400)\ttotal: 10.2s\tremaining: 1m 57s\n",
            "bestTest = 0.6782398399\n",
            "bestIteration = 486\n",
            "Shrink model to first 487 iterations.\n"
          ]
        },
        {
          "output_type": "execute_result",
          "data": {
            "text/plain": [
              "<catboost.core.CatBoostClassifier at 0x7f07472b8dd0>"
            ]
          },
          "metadata": {},
          "execution_count": 48
        }
      ]
    },
    {
      "cell_type": "code",
      "metadata": {
        "colab": {
          "base_uri": "https://localhost:8080/"
        },
        "id": "Y6IkRhzzUQfq",
        "outputId": "cb6ea8ca-6554-44e5-b799-f67a6ece2609"
      },
      "source": [
        "# Make predictions\n",
        "y_pred = model.predict(X_test)\n",
        "\n",
        "# Check score\n",
        "accuracy_score(y_test, y_pred)"
      ],
      "execution_count": null,
      "outputs": [
        {
          "output_type": "execute_result",
          "data": {
            "text/plain": [
              "0.6782398398843609"
            ]
          },
          "metadata": {},
          "execution_count": 49
        }
      ]
    },
    {
      "cell_type": "markdown",
      "metadata": {
        "id": "wQGbPsrbULlM"
      },
      "source": [
        "Catboost 2"
      ]
    },
    {
      "cell_type": "code",
      "metadata": {
        "id": "zIKc4iZy-nbf"
      },
      "source": [
        "model=CatBoostClassifier(n_estimators=5000,eval_metric='Accuracy',\n",
        "                         learning_rate=0.0651765456536,\n",
        "                         bootstrap_type='Bernoulli',\n",
        "                     allow_writing_files=False,\n",
        "                     use_best_model=True, metric_period=20,\n",
        "                     )\n",
        ""
      ],
      "execution_count": null,
      "outputs": []
    },
    {
      "cell_type": "code",
      "metadata": {
        "id": "7M3ju4GpL-Zi"
      },
      "source": [
        "#categorical_features_indices = np.where(X.dtypes != np.float)[0]"
      ],
      "execution_count": null,
      "outputs": []
    },
    {
      "cell_type": "code",
      "metadata": {
        "id": "rVv6QNd1Uklc"
      },
      "source": [
        "categorical_features_indices = ['client_id', 'dispatch_day', 'dispatch_day_of_week', 'order_id', 'rider_id']"
      ],
      "execution_count": null,
      "outputs": []
    },
    {
      "cell_type": "code",
      "metadata": {
        "colab": {
          "base_uri": "https://localhost:8080/"
        },
        "id": "LFn7r7iT_A6H",
        "outputId": "a501ff53-e76a-444d-c1eb-3ecf4f09ac03"
      },
      "source": [
        "model.fit(X_train, y_train, eval_set=(X_test, y_test),\n",
        "          early_stopping_rounds=50, verbose=200,\n",
        "          cat_features=categorical_features_indices)"
      ],
      "execution_count": null,
      "outputs": [
        {
          "output_type": "stream",
          "name": "stderr",
          "text": [
            "Warning: Overfitting detector is active, thus evaluation metric is calculated on every iteration. 'metric_period' is ignored for evaluation metric.\n"
          ]
        },
        {
          "output_type": "stream",
          "name": "stdout",
          "text": [
            "0:\tlearn: 0.6409068\ttest: 0.6432145\tbest: 0.6432145 (0)\ttotal: 636ms\tremaining: 52m 59s\n",
            "200:\tlearn: 0.6905965\ttest: 0.7189359\tbest: 0.7189359 (200)\ttotal: 1m 46s\tremaining: 42m 32s\n",
            "400:\tlearn: 0.7003676\ttest: 0.7268027\tbest: 0.7269139 (399)\ttotal: 3m 40s\tremaining: 42m 3s\n",
            "600:\tlearn: 0.7069420\ttest: 0.7306388\tbest: 0.7307778 (570)\ttotal: 5m 30s\tremaining: 40m 18s\n",
            "Stopped by overfitting detector  (50 iterations wait)\n",
            "\n",
            "bestTest = 0.730777784\n",
            "bestIteration = 570\n",
            "\n",
            "Shrink model to first 571 iterations.\n"
          ]
        },
        {
          "output_type": "execute_result",
          "data": {
            "text/plain": [
              "<catboost.core.CatBoostClassifier at 0x7f07454121d0>"
            ]
          },
          "metadata": {},
          "execution_count": 53
        }
      ]
    },
    {
      "cell_type": "code",
      "metadata": {
        "colab": {
          "base_uri": "https://localhost:8080/"
        },
        "id": "_UuXVhGQ-j1A",
        "outputId": "4115b6d7-64d7-4a40-a1de-868fdbff725f"
      },
      "source": [
        "# Make predictions\n",
        "y_pred = model.predict(X_test)\n",
        "\n",
        "# Check score\n",
        "accuracy_score(y_test, y_pred)"
      ],
      "execution_count": null,
      "outputs": [
        {
          "output_type": "execute_result",
          "data": {
            "text/plain": [
              "0.7307777839550786"
            ]
          },
          "metadata": {},
          "execution_count": 54
        }
      ]
    },
    {
      "cell_type": "code",
      "metadata": {
        "id": "llaGERIUGpua"
      },
      "source": [
        "# Make predictions in test set and prepare submission file\n",
        "y_pred = np.asarray(model.predict(test_n[main_cols]), dtype=int)\n",
        "predictions = y_pred\n",
        "sub_file = ss.copy()\n",
        "sub_file.target = (predictions)\n",
        "sub_file.to_csv('final.csv', index = False) #0.734"
      ],
      "execution_count": null,
      "outputs": []
    },
    {
      "cell_type": "markdown",
      "metadata": {
        "id": "86OgaysmY8Kv"
      },
      "source": [
        "# Push to Github"
      ]
    }
  ]
}